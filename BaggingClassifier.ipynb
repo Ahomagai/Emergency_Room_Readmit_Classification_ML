{
  "nbformat": 4,
  "nbformat_minor": 0,
  "metadata": {
    "colab": {
      "provenance": [],
      "authorship_tag": "ABX9TyMO2d+dXWUNUEBoO6/1araU",
      "include_colab_link": true
    },
    "kernelspec": {
      "name": "python3",
      "display_name": "Python 3"
    },
    "language_info": {
      "name": "python"
    }
  },
  "cells": [
    {
      "cell_type": "markdown",
      "metadata": {
        "id": "view-in-github",
        "colab_type": "text"
      },
      "source": [
        "<a href=\"https://colab.research.google.com/github/Ahomagai/MIMICIII_frequent_user_pred/blob/main/BaggingClassifier.ipynb\" target=\"_parent\"><img src=\"https://colab.research.google.com/assets/colab-badge.svg\" alt=\"Open In Colab\"/></a>"
      ]
    },
    {
      "cell_type": "code",
      "execution_count": 1,
      "metadata": {
        "id": "DBKo7kYAmBf9"
      },
      "outputs": [],
      "source": [
        "# Bagging Classifier time\n",
        "import pandas as pd\n",
        "import numpy as np\n",
        "import matplotlib.pyplot as plt\n",
        "from sklearn.preprocessing import StandardScaler\n",
        "\n",
        "%matplotlib inline"
      ]
    },
    {
      "cell_type": "code",
      "source": [
        "from google.colab import files\n",
        "\n",
        "\n",
        "uploaded = files.upload()"
      ],
      "metadata": {
        "colab": {
          "base_uri": "https://localhost:8080/",
          "height": 74
        },
        "id": "Vy1QcyLhVmD_",
        "outputId": "a61323d8-1eb3-4e16-9a1d-9df79d1c81cf"
      },
      "execution_count": 2,
      "outputs": [
        {
          "output_type": "display_data",
          "data": {
            "text/plain": [
              "<IPython.core.display.HTML object>"
            ],
            "text/html": [
              "\n",
              "     <input type=\"file\" id=\"files-d82fbab6-70a6-4be8-bcec-54c0fe50ed7f\" name=\"files[]\" multiple disabled\n",
              "        style=\"border:none\" />\n",
              "     <output id=\"result-d82fbab6-70a6-4be8-bcec-54c0fe50ed7f\">\n",
              "      Upload widget is only available when the cell has been executed in the\n",
              "      current browser session. Please rerun this cell to enable.\n",
              "      </output>\n",
              "      <script>// Copyright 2017 Google LLC\n",
              "//\n",
              "// Licensed under the Apache License, Version 2.0 (the \"License\");\n",
              "// you may not use this file except in compliance with the License.\n",
              "// You may obtain a copy of the License at\n",
              "//\n",
              "//      http://www.apache.org/licenses/LICENSE-2.0\n",
              "//\n",
              "// Unless required by applicable law or agreed to in writing, software\n",
              "// distributed under the License is distributed on an \"AS IS\" BASIS,\n",
              "// WITHOUT WARRANTIES OR CONDITIONS OF ANY KIND, either express or implied.\n",
              "// See the License for the specific language governing permissions and\n",
              "// limitations under the License.\n",
              "\n",
              "/**\n",
              " * @fileoverview Helpers for google.colab Python module.\n",
              " */\n",
              "(function(scope) {\n",
              "function span(text, styleAttributes = {}) {\n",
              "  const element = document.createElement('span');\n",
              "  element.textContent = text;\n",
              "  for (const key of Object.keys(styleAttributes)) {\n",
              "    element.style[key] = styleAttributes[key];\n",
              "  }\n",
              "  return element;\n",
              "}\n",
              "\n",
              "// Max number of bytes which will be uploaded at a time.\n",
              "const MAX_PAYLOAD_SIZE = 100 * 1024;\n",
              "\n",
              "function _uploadFiles(inputId, outputId) {\n",
              "  const steps = uploadFilesStep(inputId, outputId);\n",
              "  const outputElement = document.getElementById(outputId);\n",
              "  // Cache steps on the outputElement to make it available for the next call\n",
              "  // to uploadFilesContinue from Python.\n",
              "  outputElement.steps = steps;\n",
              "\n",
              "  return _uploadFilesContinue(outputId);\n",
              "}\n",
              "\n",
              "// This is roughly an async generator (not supported in the browser yet),\n",
              "// where there are multiple asynchronous steps and the Python side is going\n",
              "// to poll for completion of each step.\n",
              "// This uses a Promise to block the python side on completion of each step,\n",
              "// then passes the result of the previous step as the input to the next step.\n",
              "function _uploadFilesContinue(outputId) {\n",
              "  const outputElement = document.getElementById(outputId);\n",
              "  const steps = outputElement.steps;\n",
              "\n",
              "  const next = steps.next(outputElement.lastPromiseValue);\n",
              "  return Promise.resolve(next.value.promise).then((value) => {\n",
              "    // Cache the last promise value to make it available to the next\n",
              "    // step of the generator.\n",
              "    outputElement.lastPromiseValue = value;\n",
              "    return next.value.response;\n",
              "  });\n",
              "}\n",
              "\n",
              "/**\n",
              " * Generator function which is called between each async step of the upload\n",
              " * process.\n",
              " * @param {string} inputId Element ID of the input file picker element.\n",
              " * @param {string} outputId Element ID of the output display.\n",
              " * @return {!Iterable<!Object>} Iterable of next steps.\n",
              " */\n",
              "function* uploadFilesStep(inputId, outputId) {\n",
              "  const inputElement = document.getElementById(inputId);\n",
              "  inputElement.disabled = false;\n",
              "\n",
              "  const outputElement = document.getElementById(outputId);\n",
              "  outputElement.innerHTML = '';\n",
              "\n",
              "  const pickedPromise = new Promise((resolve) => {\n",
              "    inputElement.addEventListener('change', (e) => {\n",
              "      resolve(e.target.files);\n",
              "    });\n",
              "  });\n",
              "\n",
              "  const cancel = document.createElement('button');\n",
              "  inputElement.parentElement.appendChild(cancel);\n",
              "  cancel.textContent = 'Cancel upload';\n",
              "  const cancelPromise = new Promise((resolve) => {\n",
              "    cancel.onclick = () => {\n",
              "      resolve(null);\n",
              "    };\n",
              "  });\n",
              "\n",
              "  // Wait for the user to pick the files.\n",
              "  const files = yield {\n",
              "    promise: Promise.race([pickedPromise, cancelPromise]),\n",
              "    response: {\n",
              "      action: 'starting',\n",
              "    }\n",
              "  };\n",
              "\n",
              "  cancel.remove();\n",
              "\n",
              "  // Disable the input element since further picks are not allowed.\n",
              "  inputElement.disabled = true;\n",
              "\n",
              "  if (!files) {\n",
              "    return {\n",
              "      response: {\n",
              "        action: 'complete',\n",
              "      }\n",
              "    };\n",
              "  }\n",
              "\n",
              "  for (const file of files) {\n",
              "    const li = document.createElement('li');\n",
              "    li.append(span(file.name, {fontWeight: 'bold'}));\n",
              "    li.append(span(\n",
              "        `(${file.type || 'n/a'}) - ${file.size} bytes, ` +\n",
              "        `last modified: ${\n",
              "            file.lastModifiedDate ? file.lastModifiedDate.toLocaleDateString() :\n",
              "                                    'n/a'} - `));\n",
              "    const percent = span('0% done');\n",
              "    li.appendChild(percent);\n",
              "\n",
              "    outputElement.appendChild(li);\n",
              "\n",
              "    const fileDataPromise = new Promise((resolve) => {\n",
              "      const reader = new FileReader();\n",
              "      reader.onload = (e) => {\n",
              "        resolve(e.target.result);\n",
              "      };\n",
              "      reader.readAsArrayBuffer(file);\n",
              "    });\n",
              "    // Wait for the data to be ready.\n",
              "    let fileData = yield {\n",
              "      promise: fileDataPromise,\n",
              "      response: {\n",
              "        action: 'continue',\n",
              "      }\n",
              "    };\n",
              "\n",
              "    // Use a chunked sending to avoid message size limits. See b/62115660.\n",
              "    let position = 0;\n",
              "    do {\n",
              "      const length = Math.min(fileData.byteLength - position, MAX_PAYLOAD_SIZE);\n",
              "      const chunk = new Uint8Array(fileData, position, length);\n",
              "      position += length;\n",
              "\n",
              "      const base64 = btoa(String.fromCharCode.apply(null, chunk));\n",
              "      yield {\n",
              "        response: {\n",
              "          action: 'append',\n",
              "          file: file.name,\n",
              "          data: base64,\n",
              "        },\n",
              "      };\n",
              "\n",
              "      let percentDone = fileData.byteLength === 0 ?\n",
              "          100 :\n",
              "          Math.round((position / fileData.byteLength) * 100);\n",
              "      percent.textContent = `${percentDone}% done`;\n",
              "\n",
              "    } while (position < fileData.byteLength);\n",
              "  }\n",
              "\n",
              "  // All done.\n",
              "  yield {\n",
              "    response: {\n",
              "      action: 'complete',\n",
              "    }\n",
              "  };\n",
              "}\n",
              "\n",
              "scope.google = scope.google || {};\n",
              "scope.google.colab = scope.google.colab || {};\n",
              "scope.google.colab._files = {\n",
              "  _uploadFiles,\n",
              "  _uploadFilesContinue,\n",
              "};\n",
              "})(self);\n",
              "</script> "
            ]
          },
          "metadata": {}
        },
        {
          "output_type": "stream",
          "name": "stdout",
          "text": [
            "Saving mimic_v6_labelled.csv to mimic_v6_labelled.csv\n"
          ]
        }
      ]
    },
    {
      "cell_type": "code",
      "source": [
        "#import libraries and data\n",
        "import numpy as np\n",
        "import matplotlib.pyplot as plt\n",
        "from sklearn.preprocessing import StandardScaler\n",
        "import pandas as pd"
      ],
      "metadata": {
        "id": "qB25uj23YdGn"
      },
      "execution_count": 3,
      "outputs": []
    },
    {
      "cell_type": "code",
      "source": [
        "df = pd.read_csv(\"/content/mimic_v6_labelled.csv\")\n",
        "\n",
        "print(df.shape)"
      ],
      "metadata": {
        "colab": {
          "base_uri": "https://localhost:8080/"
        },
        "id": "dbgH41bjVkis",
        "outputId": "b6fd6a3a-965f-4b5c-a564-dbf1395dd3fc"
      },
      "execution_count": 4,
      "outputs": [
        {
          "output_type": "stream",
          "name": "stdout",
          "text": [
            "(26176, 28)\n"
          ]
        }
      ]
    },
    {
      "cell_type": "code",
      "source": [
        "# Identify and replace erroneous temp values\n",
        "# Sort the DataFrame by subject_id and any other relevant column (e.g., timestamp)\n",
        "df.sort_values(by=['subject_id', 'admittime'], inplace=True)\n",
        "\n",
        "# Create a function to replace the values of 6 with the last value above 30\n",
        "def replace_values(group):\n",
        "    last_above_30 = None\n",
        "    new_temp = []\n",
        "\n",
        "    for temp in group['temp']:\n",
        "        if temp > 30:\n",
        "            last_above_30 = temp\n",
        "        elif last_above_30 is None:\n",
        "            last_above_30 = 36.66667  # Default value if no values above 30\n",
        "        new_temp.append(last_above_30 if temp in (4, 5, 6) else temp)\n",
        "\n",
        "    group['temp'] = new_temp\n",
        "    return group\n",
        "\n",
        "\n",
        "# Apply the function to each group of unique participants\n",
        "df = df.groupby('subject_id').apply(replace_values)\n",
        "\n",
        "# Reset the index of the DataFrame\n",
        "df.reset_index(drop=True, inplace=True)"
      ],
      "metadata": {
        "colab": {
          "base_uri": "https://localhost:8080/"
        },
        "id": "VCCBRhdiVxbz",
        "outputId": "730e953f-4e38-4fc2-b4c3-322dfea669d2"
      },
      "execution_count": 5,
      "outputs": [
        {
          "output_type": "stream",
          "name": "stderr",
          "text": [
            "<ipython-input-5-63ef52bf1172>:22: FutureWarning: Not prepending group keys to the result index of transform-like apply. In the future, the group keys will be included in the index, regardless of whether the applied function returns a like-indexed object.\n",
            "To preserve the previous behavior, use\n",
            "\n",
            "\t>>> .groupby(..., group_keys=False)\n",
            "\n",
            "To adopt the future behavior and silence this warning, use \n",
            "\n",
            "\t>>> .groupby(..., group_keys=True)\n",
            "  df = df.groupby('subject_id').apply(replace_values)\n"
          ]
        }
      ]
    },
    {
      "cell_type": "code",
      "source": [
        "# clean df, remove unrequired features and setup categorical and numerical df\n",
        "df['Medication_count'] = df['unique_cv_items_count'] + df['unique_mv_items_count']\n",
        "\n",
        "\n",
        "bin_edges = [0, 1, 2, 3, 4, float('inf')]\n",
        "bin_labels = ['1', '2', '3', '4', '>4']\n",
        "\n",
        "# Apply binning to the 'num_unique_icd9_codes' column\n",
        "df['num_unique_icd9_codes_bin'] = pd.cut(df['num_unique_icd9_codes'], bins=bin_edges, labels=bin_labels)\n",
        "\n",
        "# Apply binning to the 'Medication_count' column\n",
        "df['Medication_count_bin'] = pd.cut(df['Medication_count'], bins=bin_edges, labels=bin_labels)\n",
        "\n",
        "df = df.drop(columns=['Unnamed: 0.1','Unnamed: 0','subject_id','admittime',\n",
        "                      'deathtime','marital_status',\n",
        "                      'hadm_id', 'icd9_code_2','icd9_code_3',\n",
        "                      'dischtime','admission_type',\n",
        "                      'unique_cv_items_count','unique_mv_items_count',\n",
        "                      'num_unique_icd9_codes','Medication_count','diagnosis'])\n",
        "\n",
        "df= df.dropna()"
      ],
      "metadata": {
        "id": "qnZODW_wV0TD"
      },
      "execution_count": 6,
      "outputs": []
    },
    {
      "cell_type": "code",
      "source": [
        "# replace Age > 300\n",
        "def replace_above_300(value):\n",
        "    if value > 300:\n",
        "        return value - 210\n",
        "    return value\n",
        "\n",
        "# Apply the function to the 'age' column\n",
        "df['age'] = df['age'].apply(replace_above_300)"
      ],
      "metadata": {
        "id": "m0DtfkbWWO_9"
      },
      "execution_count": 7,
      "outputs": []
    },
    {
      "cell_type": "code",
      "source": [
        "df.describe()"
      ],
      "metadata": {
        "colab": {
          "base_uri": "https://localhost:8080/",
          "height": 300
        },
        "id": "BuLK3MPQWQdd",
        "outputId": "869a23de-60f7-4a06-f189-b45bb948e4d4"
      },
      "execution_count": 8,
      "outputs": [
        {
          "output_type": "execute_result",
          "data": {
            "text/plain": [
              "                age           los   icd9_code_1            hr            nbp  \\\n",
              "count  20883.000000  20883.000000  20883.000000  20883.000000   20883.000000   \n",
              "mean      63.304587     10.967243   4879.559690     88.512580      87.774858   \n",
              "std       17.304137     10.737337   3103.902339     20.586571     832.051419   \n",
              "min       18.022083     -0.116667     11.000000      0.000000       0.000000   \n",
              "25%       51.942804      4.739583   3601.000000     75.000000      69.000000   \n",
              "50%       64.843536      7.865972   3951.000000     87.000000      80.000000   \n",
              "75%       77.225612     13.505556   8102.000000    100.000000      92.333298   \n",
              "max      100.280859    202.762500   9978.000000    941.000000  120130.030000   \n",
              "\n",
              "               spo2            rr          temp         Label  \n",
              "count  20883.000000  20883.000000  20883.000000  20883.000000  \n",
              "mean      97.259015     18.516545     33.622603      0.121391  \n",
              "std        4.633746      6.203092     10.019697      0.326588  \n",
              "min        0.000000      0.000000      0.777778      0.000000  \n",
              "25%       96.000000     14.000000     36.444401      0.000000  \n",
              "50%       98.000000     18.000000     36.666670      0.000000  \n",
              "75%      100.000000     22.000000     36.666670      0.000000  \n",
              "max      100.000000    160.000000     40.833302      1.000000  "
            ],
            "text/html": [
              "\n",
              "  <div id=\"df-a1e18e43-11bd-4538-aa0e-62a3a6fd3a95\" class=\"colab-df-container\">\n",
              "    <div>\n",
              "<style scoped>\n",
              "    .dataframe tbody tr th:only-of-type {\n",
              "        vertical-align: middle;\n",
              "    }\n",
              "\n",
              "    .dataframe tbody tr th {\n",
              "        vertical-align: top;\n",
              "    }\n",
              "\n",
              "    .dataframe thead th {\n",
              "        text-align: right;\n",
              "    }\n",
              "</style>\n",
              "<table border=\"1\" class=\"dataframe\">\n",
              "  <thead>\n",
              "    <tr style=\"text-align: right;\">\n",
              "      <th></th>\n",
              "      <th>age</th>\n",
              "      <th>los</th>\n",
              "      <th>icd9_code_1</th>\n",
              "      <th>hr</th>\n",
              "      <th>nbp</th>\n",
              "      <th>spo2</th>\n",
              "      <th>rr</th>\n",
              "      <th>temp</th>\n",
              "      <th>Label</th>\n",
              "    </tr>\n",
              "  </thead>\n",
              "  <tbody>\n",
              "    <tr>\n",
              "      <th>count</th>\n",
              "      <td>20883.000000</td>\n",
              "      <td>20883.000000</td>\n",
              "      <td>20883.000000</td>\n",
              "      <td>20883.000000</td>\n",
              "      <td>20883.000000</td>\n",
              "      <td>20883.000000</td>\n",
              "      <td>20883.000000</td>\n",
              "      <td>20883.000000</td>\n",
              "      <td>20883.000000</td>\n",
              "    </tr>\n",
              "    <tr>\n",
              "      <th>mean</th>\n",
              "      <td>63.304587</td>\n",
              "      <td>10.967243</td>\n",
              "      <td>4879.559690</td>\n",
              "      <td>88.512580</td>\n",
              "      <td>87.774858</td>\n",
              "      <td>97.259015</td>\n",
              "      <td>18.516545</td>\n",
              "      <td>33.622603</td>\n",
              "      <td>0.121391</td>\n",
              "    </tr>\n",
              "    <tr>\n",
              "      <th>std</th>\n",
              "      <td>17.304137</td>\n",
              "      <td>10.737337</td>\n",
              "      <td>3103.902339</td>\n",
              "      <td>20.586571</td>\n",
              "      <td>832.051419</td>\n",
              "      <td>4.633746</td>\n",
              "      <td>6.203092</td>\n",
              "      <td>10.019697</td>\n",
              "      <td>0.326588</td>\n",
              "    </tr>\n",
              "    <tr>\n",
              "      <th>min</th>\n",
              "      <td>18.022083</td>\n",
              "      <td>-0.116667</td>\n",
              "      <td>11.000000</td>\n",
              "      <td>0.000000</td>\n",
              "      <td>0.000000</td>\n",
              "      <td>0.000000</td>\n",
              "      <td>0.000000</td>\n",
              "      <td>0.777778</td>\n",
              "      <td>0.000000</td>\n",
              "    </tr>\n",
              "    <tr>\n",
              "      <th>25%</th>\n",
              "      <td>51.942804</td>\n",
              "      <td>4.739583</td>\n",
              "      <td>3601.000000</td>\n",
              "      <td>75.000000</td>\n",
              "      <td>69.000000</td>\n",
              "      <td>96.000000</td>\n",
              "      <td>14.000000</td>\n",
              "      <td>36.444401</td>\n",
              "      <td>0.000000</td>\n",
              "    </tr>\n",
              "    <tr>\n",
              "      <th>50%</th>\n",
              "      <td>64.843536</td>\n",
              "      <td>7.865972</td>\n",
              "      <td>3951.000000</td>\n",
              "      <td>87.000000</td>\n",
              "      <td>80.000000</td>\n",
              "      <td>98.000000</td>\n",
              "      <td>18.000000</td>\n",
              "      <td>36.666670</td>\n",
              "      <td>0.000000</td>\n",
              "    </tr>\n",
              "    <tr>\n",
              "      <th>75%</th>\n",
              "      <td>77.225612</td>\n",
              "      <td>13.505556</td>\n",
              "      <td>8102.000000</td>\n",
              "      <td>100.000000</td>\n",
              "      <td>92.333298</td>\n",
              "      <td>100.000000</td>\n",
              "      <td>22.000000</td>\n",
              "      <td>36.666670</td>\n",
              "      <td>0.000000</td>\n",
              "    </tr>\n",
              "    <tr>\n",
              "      <th>max</th>\n",
              "      <td>100.280859</td>\n",
              "      <td>202.762500</td>\n",
              "      <td>9978.000000</td>\n",
              "      <td>941.000000</td>\n",
              "      <td>120130.030000</td>\n",
              "      <td>100.000000</td>\n",
              "      <td>160.000000</td>\n",
              "      <td>40.833302</td>\n",
              "      <td>1.000000</td>\n",
              "    </tr>\n",
              "  </tbody>\n",
              "</table>\n",
              "</div>\n",
              "    <div class=\"colab-df-buttons\">\n",
              "\n",
              "  <div class=\"colab-df-container\">\n",
              "    <button class=\"colab-df-convert\" onclick=\"convertToInteractive('df-a1e18e43-11bd-4538-aa0e-62a3a6fd3a95')\"\n",
              "            title=\"Convert this dataframe to an interactive table.\"\n",
              "            style=\"display:none;\">\n",
              "\n",
              "  <svg xmlns=\"http://www.w3.org/2000/svg\" height=\"24px\" viewBox=\"0 -960 960 960\">\n",
              "    <path d=\"M120-120v-720h720v720H120Zm60-500h600v-160H180v160Zm220 220h160v-160H400v160Zm0 220h160v-160H400v160ZM180-400h160v-160H180v160Zm440 0h160v-160H620v160ZM180-180h160v-160H180v160Zm440 0h160v-160H620v160Z\"/>\n",
              "  </svg>\n",
              "    </button>\n",
              "\n",
              "  <style>\n",
              "    .colab-df-container {\n",
              "      display:flex;\n",
              "      gap: 12px;\n",
              "    }\n",
              "\n",
              "    .colab-df-convert {\n",
              "      background-color: #E8F0FE;\n",
              "      border: none;\n",
              "      border-radius: 50%;\n",
              "      cursor: pointer;\n",
              "      display: none;\n",
              "      fill: #1967D2;\n",
              "      height: 32px;\n",
              "      padding: 0 0 0 0;\n",
              "      width: 32px;\n",
              "    }\n",
              "\n",
              "    .colab-df-convert:hover {\n",
              "      background-color: #E2EBFA;\n",
              "      box-shadow: 0px 1px 2px rgba(60, 64, 67, 0.3), 0px 1px 3px 1px rgba(60, 64, 67, 0.15);\n",
              "      fill: #174EA6;\n",
              "    }\n",
              "\n",
              "    .colab-df-buttons div {\n",
              "      margin-bottom: 4px;\n",
              "    }\n",
              "\n",
              "    [theme=dark] .colab-df-convert {\n",
              "      background-color: #3B4455;\n",
              "      fill: #D2E3FC;\n",
              "    }\n",
              "\n",
              "    [theme=dark] .colab-df-convert:hover {\n",
              "      background-color: #434B5C;\n",
              "      box-shadow: 0px 1px 3px 1px rgba(0, 0, 0, 0.15);\n",
              "      filter: drop-shadow(0px 1px 2px rgba(0, 0, 0, 0.3));\n",
              "      fill: #FFFFFF;\n",
              "    }\n",
              "  </style>\n",
              "\n",
              "    <script>\n",
              "      const buttonEl =\n",
              "        document.querySelector('#df-a1e18e43-11bd-4538-aa0e-62a3a6fd3a95 button.colab-df-convert');\n",
              "      buttonEl.style.display =\n",
              "        google.colab.kernel.accessAllowed ? 'block' : 'none';\n",
              "\n",
              "      async function convertToInteractive(key) {\n",
              "        const element = document.querySelector('#df-a1e18e43-11bd-4538-aa0e-62a3a6fd3a95');\n",
              "        const dataTable =\n",
              "          await google.colab.kernel.invokeFunction('convertToInteractive',\n",
              "                                                    [key], {});\n",
              "        if (!dataTable) return;\n",
              "\n",
              "        const docLinkHtml = 'Like what you see? Visit the ' +\n",
              "          '<a target=\"_blank\" href=https://colab.research.google.com/notebooks/data_table.ipynb>data table notebook</a>'\n",
              "          + ' to learn more about interactive tables.';\n",
              "        element.innerHTML = '';\n",
              "        dataTable['output_type'] = 'display_data';\n",
              "        await google.colab.output.renderOutput(dataTable, element);\n",
              "        const docLink = document.createElement('div');\n",
              "        docLink.innerHTML = docLinkHtml;\n",
              "        element.appendChild(docLink);\n",
              "      }\n",
              "    </script>\n",
              "  </div>\n",
              "\n",
              "\n",
              "<div id=\"df-ee1148d7-e512-4b73-b47b-920b9556b849\">\n",
              "  <button class=\"colab-df-quickchart\" onclick=\"quickchart('df-ee1148d7-e512-4b73-b47b-920b9556b849')\"\n",
              "            title=\"Suggest charts.\"\n",
              "            style=\"display:none;\">\n",
              "\n",
              "<svg xmlns=\"http://www.w3.org/2000/svg\" height=\"24px\"viewBox=\"0 0 24 24\"\n",
              "     width=\"24px\">\n",
              "    <g>\n",
              "        <path d=\"M19 3H5c-1.1 0-2 .9-2 2v14c0 1.1.9 2 2 2h14c1.1 0 2-.9 2-2V5c0-1.1-.9-2-2-2zM9 17H7v-7h2v7zm4 0h-2V7h2v10zm4 0h-2v-4h2v4z\"/>\n",
              "    </g>\n",
              "</svg>\n",
              "  </button>\n",
              "\n",
              "<style>\n",
              "  .colab-df-quickchart {\n",
              "    background-color: #E8F0FE;\n",
              "    border: none;\n",
              "    border-radius: 50%;\n",
              "    cursor: pointer;\n",
              "    display: none;\n",
              "    fill: #1967D2;\n",
              "    height: 32px;\n",
              "    padding: 0 0 0 0;\n",
              "    width: 32px;\n",
              "  }\n",
              "\n",
              "  .colab-df-quickchart:hover {\n",
              "    background-color: #E2EBFA;\n",
              "    box-shadow: 0px 1px 2px rgba(60, 64, 67, 0.3), 0px 1px 3px 1px rgba(60, 64, 67, 0.15);\n",
              "    fill: #174EA6;\n",
              "  }\n",
              "\n",
              "  [theme=dark] .colab-df-quickchart {\n",
              "    background-color: #3B4455;\n",
              "    fill: #D2E3FC;\n",
              "  }\n",
              "\n",
              "  [theme=dark] .colab-df-quickchart:hover {\n",
              "    background-color: #434B5C;\n",
              "    box-shadow: 0px 1px 3px 1px rgba(0, 0, 0, 0.15);\n",
              "    filter: drop-shadow(0px 1px 2px rgba(0, 0, 0, 0.3));\n",
              "    fill: #FFFFFF;\n",
              "  }\n",
              "</style>\n",
              "\n",
              "  <script>\n",
              "    async function quickchart(key) {\n",
              "      const charts = await google.colab.kernel.invokeFunction(\n",
              "          'suggestCharts', [key], {});\n",
              "    }\n",
              "    (() => {\n",
              "      let quickchartButtonEl =\n",
              "        document.querySelector('#df-ee1148d7-e512-4b73-b47b-920b9556b849 button');\n",
              "      quickchartButtonEl.style.display =\n",
              "        google.colab.kernel.accessAllowed ? 'block' : 'none';\n",
              "    })();\n",
              "  </script>\n",
              "</div>\n",
              "    </div>\n",
              "  </div>\n"
            ]
          },
          "metadata": {},
          "execution_count": 8
        }
      ]
    },
    {
      "cell_type": "code",
      "source": [
        "df.keys()"
      ],
      "metadata": {
        "colab": {
          "base_uri": "https://localhost:8080/"
        },
        "id": "Xv-XtGYiWR9e",
        "outputId": "4dd0cf54-88e2-4946-b53a-765fcdb28f8a"
      },
      "execution_count": 9,
      "outputs": [
        {
          "output_type": "execute_result",
          "data": {
            "text/plain": [
              "Index(['age', 'gender', 'los', 'discharge_location', 'insurance', 'ethnicity',\n",
              "       'icd9_code_1', 'hr', 'nbp', 'spo2', 'rr', 'temp', 'Label',\n",
              "       'num_unique_icd9_codes_bin', 'Medication_count_bin'],\n",
              "      dtype='object')"
            ]
          },
          "metadata": {},
          "execution_count": 9
        }
      ]
    },
    {
      "cell_type": "code",
      "source": [
        "categ_columns = ['gender','discharge_location','insurance','ethnicity',\n",
        "                      'icd9_code_1','num_unique_icd9_codes_bin','Medication_count_bin']\n",
        "\n",
        "from sklearn.preprocessing import LabelEncoder\n",
        "\n",
        "label_encoders = {}\n",
        "for column in categ_columns:\n",
        "  label_encoder = LabelEncoder()\n",
        "  df[column] = label_encoder.fit_transform(df[column])\n",
        "  label_encoders[column] = label_encoder\n"
      ],
      "metadata": {
        "id": "BWQsgoTbe2aj"
      },
      "execution_count": 10,
      "outputs": []
    },
    {
      "cell_type": "code",
      "source": [
        "# split into X and y\n",
        "y_df = df['Label']\n",
        "y_df.columns = ['Label']"
      ],
      "metadata": {
        "id": "_YKd5w41WTg5"
      },
      "execution_count": 11,
      "outputs": []
    },
    {
      "cell_type": "code",
      "source": [
        "# Split X numerical and Categorical\n",
        "x_df = df.copy()\n",
        "\n",
        "#x_df_cat = x_df[['gender','discharge_location','insurance','ethnicity',\n",
        "               # 'icd9_code_1','num_unique_icd9_codes_bin','Medication_count_bin']].copy()\n",
        "\n",
        "x_df_cat = pd.get_dummies(df[['discharge_location','insurance','ethnicity','icd9_code_1','gender', 'Medication_count_bin', 'num_unique_icd9_codes_bin']])\n",
        "\n",
        "x_df_num = x_df.drop(['gender','discharge_location','insurance','ethnicity',\n",
        "                      'icd9_code_1','Label','num_unique_icd9_codes_bin','Medication_count_bin'], axis = 1).astype('float64')\n",
        "x_df_num"
      ],
      "metadata": {
        "colab": {
          "base_uri": "https://localhost:8080/",
          "height": 424
        },
        "id": "yKrznNDpWWhm",
        "outputId": "2e1ae8c3-aa99-49c3-d5d9-175af5fe091e"
      },
      "execution_count": 12,
      "outputs": [
        {
          "output_type": "execute_result",
          "data": {
            "text/plain": [
              "             age        los     hr         nbp   spo2    rr       temp\n",
              "0      76.526788  10.784722   95.0   36.666698   98.0  16.0  36.055599\n",
              "1      47.845044   7.759028  111.0   80.666702   98.0  18.0  37.444401\n",
              "2      50.148292  25.529167   90.0   64.000000   96.0  19.0  37.222198\n",
              "3      39.866116   6.855556   80.0   71.333298   98.0  19.0  37.277802\n",
              "5      50.841554   2.206250   95.0  113.667000  100.0  27.0  37.666698\n",
              "...          ...        ...    ...         ...    ...   ...        ...\n",
              "26171  65.262831   6.814583   71.0   66.000000   95.0  18.0  36.666670\n",
              "26172  65.377831   6.128472   94.0   71.000000   99.0  21.0  36.666670\n",
              "26173  78.576622   3.079861   69.0   82.000000   98.0  21.0  36.666670\n",
              "26174  53.808478  16.595833  118.0  102.000000   84.0  33.0  36.666670\n",
              "26175  65.772151   2.995139   69.0   69.000000   95.0  20.0  36.666670\n",
              "\n",
              "[20883 rows x 7 columns]"
            ],
            "text/html": [
              "\n",
              "  <div id=\"df-e3a2fa98-6bb9-4e20-bcb0-3f122624056a\" class=\"colab-df-container\">\n",
              "    <div>\n",
              "<style scoped>\n",
              "    .dataframe tbody tr th:only-of-type {\n",
              "        vertical-align: middle;\n",
              "    }\n",
              "\n",
              "    .dataframe tbody tr th {\n",
              "        vertical-align: top;\n",
              "    }\n",
              "\n",
              "    .dataframe thead th {\n",
              "        text-align: right;\n",
              "    }\n",
              "</style>\n",
              "<table border=\"1\" class=\"dataframe\">\n",
              "  <thead>\n",
              "    <tr style=\"text-align: right;\">\n",
              "      <th></th>\n",
              "      <th>age</th>\n",
              "      <th>los</th>\n",
              "      <th>hr</th>\n",
              "      <th>nbp</th>\n",
              "      <th>spo2</th>\n",
              "      <th>rr</th>\n",
              "      <th>temp</th>\n",
              "    </tr>\n",
              "  </thead>\n",
              "  <tbody>\n",
              "    <tr>\n",
              "      <th>0</th>\n",
              "      <td>76.526788</td>\n",
              "      <td>10.784722</td>\n",
              "      <td>95.0</td>\n",
              "      <td>36.666698</td>\n",
              "      <td>98.0</td>\n",
              "      <td>16.0</td>\n",
              "      <td>36.055599</td>\n",
              "    </tr>\n",
              "    <tr>\n",
              "      <th>1</th>\n",
              "      <td>47.845044</td>\n",
              "      <td>7.759028</td>\n",
              "      <td>111.0</td>\n",
              "      <td>80.666702</td>\n",
              "      <td>98.0</td>\n",
              "      <td>18.0</td>\n",
              "      <td>37.444401</td>\n",
              "    </tr>\n",
              "    <tr>\n",
              "      <th>2</th>\n",
              "      <td>50.148292</td>\n",
              "      <td>25.529167</td>\n",
              "      <td>90.0</td>\n",
              "      <td>64.000000</td>\n",
              "      <td>96.0</td>\n",
              "      <td>19.0</td>\n",
              "      <td>37.222198</td>\n",
              "    </tr>\n",
              "    <tr>\n",
              "      <th>3</th>\n",
              "      <td>39.866116</td>\n",
              "      <td>6.855556</td>\n",
              "      <td>80.0</td>\n",
              "      <td>71.333298</td>\n",
              "      <td>98.0</td>\n",
              "      <td>19.0</td>\n",
              "      <td>37.277802</td>\n",
              "    </tr>\n",
              "    <tr>\n",
              "      <th>5</th>\n",
              "      <td>50.841554</td>\n",
              "      <td>2.206250</td>\n",
              "      <td>95.0</td>\n",
              "      <td>113.667000</td>\n",
              "      <td>100.0</td>\n",
              "      <td>27.0</td>\n",
              "      <td>37.666698</td>\n",
              "    </tr>\n",
              "    <tr>\n",
              "      <th>...</th>\n",
              "      <td>...</td>\n",
              "      <td>...</td>\n",
              "      <td>...</td>\n",
              "      <td>...</td>\n",
              "      <td>...</td>\n",
              "      <td>...</td>\n",
              "      <td>...</td>\n",
              "    </tr>\n",
              "    <tr>\n",
              "      <th>26171</th>\n",
              "      <td>65.262831</td>\n",
              "      <td>6.814583</td>\n",
              "      <td>71.0</td>\n",
              "      <td>66.000000</td>\n",
              "      <td>95.0</td>\n",
              "      <td>18.0</td>\n",
              "      <td>36.666670</td>\n",
              "    </tr>\n",
              "    <tr>\n",
              "      <th>26172</th>\n",
              "      <td>65.377831</td>\n",
              "      <td>6.128472</td>\n",
              "      <td>94.0</td>\n",
              "      <td>71.000000</td>\n",
              "      <td>99.0</td>\n",
              "      <td>21.0</td>\n",
              "      <td>36.666670</td>\n",
              "    </tr>\n",
              "    <tr>\n",
              "      <th>26173</th>\n",
              "      <td>78.576622</td>\n",
              "      <td>3.079861</td>\n",
              "      <td>69.0</td>\n",
              "      <td>82.000000</td>\n",
              "      <td>98.0</td>\n",
              "      <td>21.0</td>\n",
              "      <td>36.666670</td>\n",
              "    </tr>\n",
              "    <tr>\n",
              "      <th>26174</th>\n",
              "      <td>53.808478</td>\n",
              "      <td>16.595833</td>\n",
              "      <td>118.0</td>\n",
              "      <td>102.000000</td>\n",
              "      <td>84.0</td>\n",
              "      <td>33.0</td>\n",
              "      <td>36.666670</td>\n",
              "    </tr>\n",
              "    <tr>\n",
              "      <th>26175</th>\n",
              "      <td>65.772151</td>\n",
              "      <td>2.995139</td>\n",
              "      <td>69.0</td>\n",
              "      <td>69.000000</td>\n",
              "      <td>95.0</td>\n",
              "      <td>20.0</td>\n",
              "      <td>36.666670</td>\n",
              "    </tr>\n",
              "  </tbody>\n",
              "</table>\n",
              "<p>20883 rows × 7 columns</p>\n",
              "</div>\n",
              "    <div class=\"colab-df-buttons\">\n",
              "\n",
              "  <div class=\"colab-df-container\">\n",
              "    <button class=\"colab-df-convert\" onclick=\"convertToInteractive('df-e3a2fa98-6bb9-4e20-bcb0-3f122624056a')\"\n",
              "            title=\"Convert this dataframe to an interactive table.\"\n",
              "            style=\"display:none;\">\n",
              "\n",
              "  <svg xmlns=\"http://www.w3.org/2000/svg\" height=\"24px\" viewBox=\"0 -960 960 960\">\n",
              "    <path d=\"M120-120v-720h720v720H120Zm60-500h600v-160H180v160Zm220 220h160v-160H400v160Zm0 220h160v-160H400v160ZM180-400h160v-160H180v160Zm440 0h160v-160H620v160ZM180-180h160v-160H180v160Zm440 0h160v-160H620v160Z\"/>\n",
              "  </svg>\n",
              "    </button>\n",
              "\n",
              "  <style>\n",
              "    .colab-df-container {\n",
              "      display:flex;\n",
              "      gap: 12px;\n",
              "    }\n",
              "\n",
              "    .colab-df-convert {\n",
              "      background-color: #E8F0FE;\n",
              "      border: none;\n",
              "      border-radius: 50%;\n",
              "      cursor: pointer;\n",
              "      display: none;\n",
              "      fill: #1967D2;\n",
              "      height: 32px;\n",
              "      padding: 0 0 0 0;\n",
              "      width: 32px;\n",
              "    }\n",
              "\n",
              "    .colab-df-convert:hover {\n",
              "      background-color: #E2EBFA;\n",
              "      box-shadow: 0px 1px 2px rgba(60, 64, 67, 0.3), 0px 1px 3px 1px rgba(60, 64, 67, 0.15);\n",
              "      fill: #174EA6;\n",
              "    }\n",
              "\n",
              "    .colab-df-buttons div {\n",
              "      margin-bottom: 4px;\n",
              "    }\n",
              "\n",
              "    [theme=dark] .colab-df-convert {\n",
              "      background-color: #3B4455;\n",
              "      fill: #D2E3FC;\n",
              "    }\n",
              "\n",
              "    [theme=dark] .colab-df-convert:hover {\n",
              "      background-color: #434B5C;\n",
              "      box-shadow: 0px 1px 3px 1px rgba(0, 0, 0, 0.15);\n",
              "      filter: drop-shadow(0px 1px 2px rgba(0, 0, 0, 0.3));\n",
              "      fill: #FFFFFF;\n",
              "    }\n",
              "  </style>\n",
              "\n",
              "    <script>\n",
              "      const buttonEl =\n",
              "        document.querySelector('#df-e3a2fa98-6bb9-4e20-bcb0-3f122624056a button.colab-df-convert');\n",
              "      buttonEl.style.display =\n",
              "        google.colab.kernel.accessAllowed ? 'block' : 'none';\n",
              "\n",
              "      async function convertToInteractive(key) {\n",
              "        const element = document.querySelector('#df-e3a2fa98-6bb9-4e20-bcb0-3f122624056a');\n",
              "        const dataTable =\n",
              "          await google.colab.kernel.invokeFunction('convertToInteractive',\n",
              "                                                    [key], {});\n",
              "        if (!dataTable) return;\n",
              "\n",
              "        const docLinkHtml = 'Like what you see? Visit the ' +\n",
              "          '<a target=\"_blank\" href=https://colab.research.google.com/notebooks/data_table.ipynb>data table notebook</a>'\n",
              "          + ' to learn more about interactive tables.';\n",
              "        element.innerHTML = '';\n",
              "        dataTable['output_type'] = 'display_data';\n",
              "        await google.colab.output.renderOutput(dataTable, element);\n",
              "        const docLink = document.createElement('div');\n",
              "        docLink.innerHTML = docLinkHtml;\n",
              "        element.appendChild(docLink);\n",
              "      }\n",
              "    </script>\n",
              "  </div>\n",
              "\n",
              "\n",
              "<div id=\"df-ba547300-9c44-4a5e-a36a-15d27d833621\">\n",
              "  <button class=\"colab-df-quickchart\" onclick=\"quickchart('df-ba547300-9c44-4a5e-a36a-15d27d833621')\"\n",
              "            title=\"Suggest charts.\"\n",
              "            style=\"display:none;\">\n",
              "\n",
              "<svg xmlns=\"http://www.w3.org/2000/svg\" height=\"24px\"viewBox=\"0 0 24 24\"\n",
              "     width=\"24px\">\n",
              "    <g>\n",
              "        <path d=\"M19 3H5c-1.1 0-2 .9-2 2v14c0 1.1.9 2 2 2h14c1.1 0 2-.9 2-2V5c0-1.1-.9-2-2-2zM9 17H7v-7h2v7zm4 0h-2V7h2v10zm4 0h-2v-4h2v4z\"/>\n",
              "    </g>\n",
              "</svg>\n",
              "  </button>\n",
              "\n",
              "<style>\n",
              "  .colab-df-quickchart {\n",
              "    background-color: #E8F0FE;\n",
              "    border: none;\n",
              "    border-radius: 50%;\n",
              "    cursor: pointer;\n",
              "    display: none;\n",
              "    fill: #1967D2;\n",
              "    height: 32px;\n",
              "    padding: 0 0 0 0;\n",
              "    width: 32px;\n",
              "  }\n",
              "\n",
              "  .colab-df-quickchart:hover {\n",
              "    background-color: #E2EBFA;\n",
              "    box-shadow: 0px 1px 2px rgba(60, 64, 67, 0.3), 0px 1px 3px 1px rgba(60, 64, 67, 0.15);\n",
              "    fill: #174EA6;\n",
              "  }\n",
              "\n",
              "  [theme=dark] .colab-df-quickchart {\n",
              "    background-color: #3B4455;\n",
              "    fill: #D2E3FC;\n",
              "  }\n",
              "\n",
              "  [theme=dark] .colab-df-quickchart:hover {\n",
              "    background-color: #434B5C;\n",
              "    box-shadow: 0px 1px 3px 1px rgba(0, 0, 0, 0.15);\n",
              "    filter: drop-shadow(0px 1px 2px rgba(0, 0, 0, 0.3));\n",
              "    fill: #FFFFFF;\n",
              "  }\n",
              "</style>\n",
              "\n",
              "  <script>\n",
              "    async function quickchart(key) {\n",
              "      const charts = await google.colab.kernel.invokeFunction(\n",
              "          'suggestCharts', [key], {});\n",
              "    }\n",
              "    (() => {\n",
              "      let quickchartButtonEl =\n",
              "        document.querySelector('#df-ba547300-9c44-4a5e-a36a-15d27d833621 button');\n",
              "      quickchartButtonEl.style.display =\n",
              "        google.colab.kernel.accessAllowed ? 'block' : 'none';\n",
              "    })();\n",
              "  </script>\n",
              "</div>\n",
              "    </div>\n",
              "  </div>\n"
            ]
          },
          "metadata": {},
          "execution_count": 12
        }
      ]
    },
    {
      "cell_type": "code",
      "source": [
        "# numerical is under x_df_num\n",
        "X_numerical = x_df_num"
      ],
      "metadata": {
        "id": "q3mR4drxiwI5"
      },
      "execution_count": 13,
      "outputs": []
    },
    {
      "cell_type": "code",
      "source": [
        "print(len(x_df), len(y_df), len(x_df_num))"
      ],
      "metadata": {
        "colab": {
          "base_uri": "https://localhost:8080/"
        },
        "id": "n6WaX-9yWvr-",
        "outputId": "b2fcc509-d070-4104-fe43-f9fd6366144b"
      },
      "execution_count": 14,
      "outputs": [
        {
          "output_type": "stream",
          "name": "stdout",
          "text": [
            "20883 20883 20883\n"
          ]
        }
      ]
    },
    {
      "cell_type": "code",
      "source": [
        "list_numerical = X_numerical.columns\n",
        "list_numerical"
      ],
      "metadata": {
        "colab": {
          "base_uri": "https://localhost:8080/"
        },
        "id": "zmd9Z7SCjkPb",
        "outputId": "187ee078-ba83-43cb-deb8-d6d3737c6c2d"
      },
      "execution_count": 15,
      "outputs": [
        {
          "output_type": "execute_result",
          "data": {
            "text/plain": [
              "Index(['age', 'los', 'hr', 'nbp', 'spo2', 'rr', 'temp'], dtype='object')"
            ]
          },
          "metadata": {},
          "execution_count": 15
        }
      ]
    },
    {
      "cell_type": "code",
      "source": [
        "for key in x_df_cat.keys():\n",
        "    print('CATEGORICAL KEYS', key)\n",
        "\n",
        "for key in x_df_num.keys():\n",
        "    print('\\n','NUMERIC KEYS',key)"
      ],
      "metadata": {
        "colab": {
          "base_uri": "https://localhost:8080/"
        },
        "id": "m-ud3mLIWXTI",
        "outputId": "b1509311-023d-4af1-d6ce-fd73a4bb9418"
      },
      "execution_count": 16,
      "outputs": [
        {
          "output_type": "stream",
          "name": "stdout",
          "text": [
            "CATEGORICAL KEYS discharge_location\n",
            "CATEGORICAL KEYS insurance\n",
            "CATEGORICAL KEYS ethnicity\n",
            "CATEGORICAL KEYS icd9_code_1\n",
            "CATEGORICAL KEYS gender\n",
            "CATEGORICAL KEYS Medication_count_bin\n",
            "CATEGORICAL KEYS num_unique_icd9_codes_bin\n",
            "\n",
            " NUMERIC KEYS age\n",
            "\n",
            " NUMERIC KEYS los\n",
            "\n",
            " NUMERIC KEYS hr\n",
            "\n",
            " NUMERIC KEYS nbp\n",
            "\n",
            " NUMERIC KEYS spo2\n",
            "\n",
            " NUMERIC KEYS rr\n",
            "\n",
            " NUMERIC KEYS temp\n"
          ]
        }
      ]
    },
    {
      "cell_type": "code",
      "source": [
        "# Scale numerical features\n",
        "scaled_x_df_num = pd.DataFrame(StandardScaler().fit_transform(x_df_num), columns = x_df_num.keys())"
      ],
      "metadata": {
        "id": "fj_QxyN-Wkif"
      },
      "execution_count": 17,
      "outputs": []
    },
    {
      "cell_type": "code",
      "source": [
        "scaled_x_df_num.describe()"
      ],
      "metadata": {
        "colab": {
          "base_uri": "https://localhost:8080/",
          "height": 300
        },
        "id": "Dq7ZTVVPWn-D",
        "outputId": "e465675a-13f5-4014-c1cc-d221bad40592"
      },
      "execution_count": 18,
      "outputs": [
        {
          "output_type": "execute_result",
          "data": {
            "text/plain": [
              "                age           los            hr           nbp          spo2  \\\n",
              "count  2.088300e+04  2.088300e+04  2.088300e+04  2.088300e+04  2.088300e+04   \n",
              "mean  -5.335110e-16 -1.224898e-16 -1.742077e-16 -1.360997e-18  2.653945e-17   \n",
              "std    1.000024e+00  1.000024e+00  1.000024e+00  1.000024e+00  1.000024e+00   \n",
              "min   -2.616923e+00 -1.032302e+00 -4.299633e+00 -1.054946e-01 -2.098979e+01   \n",
              "25%   -6.566092e-01 -5.800142e-01 -6.563941e-01 -2.256508e-02 -2.717121e-01   \n",
              "50%    8.893741e-02 -2.888374e-01 -7.347585e-02 -9.344428e-03  1.599145e-01   \n",
              "75%    8.045104e-01  2.364062e-01  5.580189e-01  5.478686e-03  5.915411e-01   \n",
              "max    2.136897e+00  1.786289e+01  4.141087e+01  1.442761e+02  5.915411e-01   \n",
              "\n",
              "                 rr          temp  \n",
              "count  2.088300e+04  2.088300e+04  \n",
              "mean  -2.041496e-16  6.532788e-16  \n",
              "std    1.000024e+00  1.000024e+00  \n",
              "min   -2.985122e+00 -3.278104e+00  \n",
              "25%   -7.281292e-01  2.816318e-01  \n",
              "50%   -8.327410e-02  3.038155e-01  \n",
              "75%    5.615810e-01  3.038155e-01  \n",
              "max    2.280908e+01  7.196695e-01  "
            ],
            "text/html": [
              "\n",
              "  <div id=\"df-e5f57c5c-a9b7-4f60-a85e-97a3de57ef88\" class=\"colab-df-container\">\n",
              "    <div>\n",
              "<style scoped>\n",
              "    .dataframe tbody tr th:only-of-type {\n",
              "        vertical-align: middle;\n",
              "    }\n",
              "\n",
              "    .dataframe tbody tr th {\n",
              "        vertical-align: top;\n",
              "    }\n",
              "\n",
              "    .dataframe thead th {\n",
              "        text-align: right;\n",
              "    }\n",
              "</style>\n",
              "<table border=\"1\" class=\"dataframe\">\n",
              "  <thead>\n",
              "    <tr style=\"text-align: right;\">\n",
              "      <th></th>\n",
              "      <th>age</th>\n",
              "      <th>los</th>\n",
              "      <th>hr</th>\n",
              "      <th>nbp</th>\n",
              "      <th>spo2</th>\n",
              "      <th>rr</th>\n",
              "      <th>temp</th>\n",
              "    </tr>\n",
              "  </thead>\n",
              "  <tbody>\n",
              "    <tr>\n",
              "      <th>count</th>\n",
              "      <td>2.088300e+04</td>\n",
              "      <td>2.088300e+04</td>\n",
              "      <td>2.088300e+04</td>\n",
              "      <td>2.088300e+04</td>\n",
              "      <td>2.088300e+04</td>\n",
              "      <td>2.088300e+04</td>\n",
              "      <td>2.088300e+04</td>\n",
              "    </tr>\n",
              "    <tr>\n",
              "      <th>mean</th>\n",
              "      <td>-5.335110e-16</td>\n",
              "      <td>-1.224898e-16</td>\n",
              "      <td>-1.742077e-16</td>\n",
              "      <td>-1.360997e-18</td>\n",
              "      <td>2.653945e-17</td>\n",
              "      <td>-2.041496e-16</td>\n",
              "      <td>6.532788e-16</td>\n",
              "    </tr>\n",
              "    <tr>\n",
              "      <th>std</th>\n",
              "      <td>1.000024e+00</td>\n",
              "      <td>1.000024e+00</td>\n",
              "      <td>1.000024e+00</td>\n",
              "      <td>1.000024e+00</td>\n",
              "      <td>1.000024e+00</td>\n",
              "      <td>1.000024e+00</td>\n",
              "      <td>1.000024e+00</td>\n",
              "    </tr>\n",
              "    <tr>\n",
              "      <th>min</th>\n",
              "      <td>-2.616923e+00</td>\n",
              "      <td>-1.032302e+00</td>\n",
              "      <td>-4.299633e+00</td>\n",
              "      <td>-1.054946e-01</td>\n",
              "      <td>-2.098979e+01</td>\n",
              "      <td>-2.985122e+00</td>\n",
              "      <td>-3.278104e+00</td>\n",
              "    </tr>\n",
              "    <tr>\n",
              "      <th>25%</th>\n",
              "      <td>-6.566092e-01</td>\n",
              "      <td>-5.800142e-01</td>\n",
              "      <td>-6.563941e-01</td>\n",
              "      <td>-2.256508e-02</td>\n",
              "      <td>-2.717121e-01</td>\n",
              "      <td>-7.281292e-01</td>\n",
              "      <td>2.816318e-01</td>\n",
              "    </tr>\n",
              "    <tr>\n",
              "      <th>50%</th>\n",
              "      <td>8.893741e-02</td>\n",
              "      <td>-2.888374e-01</td>\n",
              "      <td>-7.347585e-02</td>\n",
              "      <td>-9.344428e-03</td>\n",
              "      <td>1.599145e-01</td>\n",
              "      <td>-8.327410e-02</td>\n",
              "      <td>3.038155e-01</td>\n",
              "    </tr>\n",
              "    <tr>\n",
              "      <th>75%</th>\n",
              "      <td>8.045104e-01</td>\n",
              "      <td>2.364062e-01</td>\n",
              "      <td>5.580189e-01</td>\n",
              "      <td>5.478686e-03</td>\n",
              "      <td>5.915411e-01</td>\n",
              "      <td>5.615810e-01</td>\n",
              "      <td>3.038155e-01</td>\n",
              "    </tr>\n",
              "    <tr>\n",
              "      <th>max</th>\n",
              "      <td>2.136897e+00</td>\n",
              "      <td>1.786289e+01</td>\n",
              "      <td>4.141087e+01</td>\n",
              "      <td>1.442761e+02</td>\n",
              "      <td>5.915411e-01</td>\n",
              "      <td>2.280908e+01</td>\n",
              "      <td>7.196695e-01</td>\n",
              "    </tr>\n",
              "  </tbody>\n",
              "</table>\n",
              "</div>\n",
              "    <div class=\"colab-df-buttons\">\n",
              "\n",
              "  <div class=\"colab-df-container\">\n",
              "    <button class=\"colab-df-convert\" onclick=\"convertToInteractive('df-e5f57c5c-a9b7-4f60-a85e-97a3de57ef88')\"\n",
              "            title=\"Convert this dataframe to an interactive table.\"\n",
              "            style=\"display:none;\">\n",
              "\n",
              "  <svg xmlns=\"http://www.w3.org/2000/svg\" height=\"24px\" viewBox=\"0 -960 960 960\">\n",
              "    <path d=\"M120-120v-720h720v720H120Zm60-500h600v-160H180v160Zm220 220h160v-160H400v160Zm0 220h160v-160H400v160ZM180-400h160v-160H180v160Zm440 0h160v-160H620v160ZM180-180h160v-160H180v160Zm440 0h160v-160H620v160Z\"/>\n",
              "  </svg>\n",
              "    </button>\n",
              "\n",
              "  <style>\n",
              "    .colab-df-container {\n",
              "      display:flex;\n",
              "      gap: 12px;\n",
              "    }\n",
              "\n",
              "    .colab-df-convert {\n",
              "      background-color: #E8F0FE;\n",
              "      border: none;\n",
              "      border-radius: 50%;\n",
              "      cursor: pointer;\n",
              "      display: none;\n",
              "      fill: #1967D2;\n",
              "      height: 32px;\n",
              "      padding: 0 0 0 0;\n",
              "      width: 32px;\n",
              "    }\n",
              "\n",
              "    .colab-df-convert:hover {\n",
              "      background-color: #E2EBFA;\n",
              "      box-shadow: 0px 1px 2px rgba(60, 64, 67, 0.3), 0px 1px 3px 1px rgba(60, 64, 67, 0.15);\n",
              "      fill: #174EA6;\n",
              "    }\n",
              "\n",
              "    .colab-df-buttons div {\n",
              "      margin-bottom: 4px;\n",
              "    }\n",
              "\n",
              "    [theme=dark] .colab-df-convert {\n",
              "      background-color: #3B4455;\n",
              "      fill: #D2E3FC;\n",
              "    }\n",
              "\n",
              "    [theme=dark] .colab-df-convert:hover {\n",
              "      background-color: #434B5C;\n",
              "      box-shadow: 0px 1px 3px 1px rgba(0, 0, 0, 0.15);\n",
              "      filter: drop-shadow(0px 1px 2px rgba(0, 0, 0, 0.3));\n",
              "      fill: #FFFFFF;\n",
              "    }\n",
              "  </style>\n",
              "\n",
              "    <script>\n",
              "      const buttonEl =\n",
              "        document.querySelector('#df-e5f57c5c-a9b7-4f60-a85e-97a3de57ef88 button.colab-df-convert');\n",
              "      buttonEl.style.display =\n",
              "        google.colab.kernel.accessAllowed ? 'block' : 'none';\n",
              "\n",
              "      async function convertToInteractive(key) {\n",
              "        const element = document.querySelector('#df-e5f57c5c-a9b7-4f60-a85e-97a3de57ef88');\n",
              "        const dataTable =\n",
              "          await google.colab.kernel.invokeFunction('convertToInteractive',\n",
              "                                                    [key], {});\n",
              "        if (!dataTable) return;\n",
              "\n",
              "        const docLinkHtml = 'Like what you see? Visit the ' +\n",
              "          '<a target=\"_blank\" href=https://colab.research.google.com/notebooks/data_table.ipynb>data table notebook</a>'\n",
              "          + ' to learn more about interactive tables.';\n",
              "        element.innerHTML = '';\n",
              "        dataTable['output_type'] = 'display_data';\n",
              "        await google.colab.output.renderOutput(dataTable, element);\n",
              "        const docLink = document.createElement('div');\n",
              "        docLink.innerHTML = docLinkHtml;\n",
              "        element.appendChild(docLink);\n",
              "      }\n",
              "    </script>\n",
              "  </div>\n",
              "\n",
              "\n",
              "<div id=\"df-25faba40-996d-4e56-a8f5-57dfee91d0da\">\n",
              "  <button class=\"colab-df-quickchart\" onclick=\"quickchart('df-25faba40-996d-4e56-a8f5-57dfee91d0da')\"\n",
              "            title=\"Suggest charts.\"\n",
              "            style=\"display:none;\">\n",
              "\n",
              "<svg xmlns=\"http://www.w3.org/2000/svg\" height=\"24px\"viewBox=\"0 0 24 24\"\n",
              "     width=\"24px\">\n",
              "    <g>\n",
              "        <path d=\"M19 3H5c-1.1 0-2 .9-2 2v14c0 1.1.9 2 2 2h14c1.1 0 2-.9 2-2V5c0-1.1-.9-2-2-2zM9 17H7v-7h2v7zm4 0h-2V7h2v10zm4 0h-2v-4h2v4z\"/>\n",
              "    </g>\n",
              "</svg>\n",
              "  </button>\n",
              "\n",
              "<style>\n",
              "  .colab-df-quickchart {\n",
              "    background-color: #E8F0FE;\n",
              "    border: none;\n",
              "    border-radius: 50%;\n",
              "    cursor: pointer;\n",
              "    display: none;\n",
              "    fill: #1967D2;\n",
              "    height: 32px;\n",
              "    padding: 0 0 0 0;\n",
              "    width: 32px;\n",
              "  }\n",
              "\n",
              "  .colab-df-quickchart:hover {\n",
              "    background-color: #E2EBFA;\n",
              "    box-shadow: 0px 1px 2px rgba(60, 64, 67, 0.3), 0px 1px 3px 1px rgba(60, 64, 67, 0.15);\n",
              "    fill: #174EA6;\n",
              "  }\n",
              "\n",
              "  [theme=dark] .colab-df-quickchart {\n",
              "    background-color: #3B4455;\n",
              "    fill: #D2E3FC;\n",
              "  }\n",
              "\n",
              "  [theme=dark] .colab-df-quickchart:hover {\n",
              "    background-color: #434B5C;\n",
              "    box-shadow: 0px 1px 3px 1px rgba(0, 0, 0, 0.15);\n",
              "    filter: drop-shadow(0px 1px 2px rgba(0, 0, 0, 0.3));\n",
              "    fill: #FFFFFF;\n",
              "  }\n",
              "</style>\n",
              "\n",
              "  <script>\n",
              "    async function quickchart(key) {\n",
              "      const charts = await google.colab.kernel.invokeFunction(\n",
              "          'suggestCharts', [key], {});\n",
              "    }\n",
              "    (() => {\n",
              "      let quickchartButtonEl =\n",
              "        document.querySelector('#df-25faba40-996d-4e56-a8f5-57dfee91d0da button');\n",
              "      quickchartButtonEl.style.display =\n",
              "        google.colab.kernel.accessAllowed ? 'block' : 'none';\n",
              "    })();\n",
              "  </script>\n",
              "</div>\n",
              "    </div>\n",
              "  </div>\n"
            ]
          },
          "metadata": {},
          "execution_count": 18
        }
      ]
    },
    {
      "cell_type": "code",
      "source": [
        "# Find outliers based on 1.5*(Q3-Q1) outlier step\n",
        "outliers  = []\n",
        "# For each feature find the data points with extreme high or low values\n",
        "for feature in scaled_x_df_num.keys():\n",
        "    # Calculate Q1 (25th percentile of the data) for the given feature\n",
        "    Q1 = np.percentile(scaled_x_df_num[feature],25)\n",
        "    # Calculate Q3 (75th percentile of the data) for the given feature\n",
        "    Q3 = np.percentile(scaled_x_df_num[feature],75)\n",
        "    # Use the interquartile range to calculate an outlier step (1.5 times the interquartile range)\n",
        "    step = 1.5*(Q3-Q1)\n",
        "    outliers_per_feature = scaled_x_df_num[~((scaled_x_df_num[feature] >= Q1 - step) & (scaled_x_df_num[feature] <= Q3 + step))]\n",
        "    outliers = outliers + list(outliers_per_feature.index)\n",
        "outliers.sort()\n",
        "outliers = list(set(outliers))\n",
        "\n",
        "# Remove outliers\n",
        "clean_scaled_x_df_num = scaled_x_df_num.drop(scaled_x_df_num.index[outliers]).reset_index(drop = True)\n",
        "print('{} outliers removed'.format(len(outliers)))"
      ],
      "metadata": {
        "colab": {
          "base_uri": "https://localhost:8080/"
        },
        "id": "IuJmqHWgWqtl",
        "outputId": "cf889fb4-a449-4263-e8d0-31597268a7c3"
      },
      "execution_count": 19,
      "outputs": [
        {
          "output_type": "stream",
          "name": "stdout",
          "text": [
            "8816 outliers removed\n"
          ]
        }
      ]
    },
    {
      "cell_type": "code",
      "source": [],
      "metadata": {
        "id": "g3Yw-OghapDl"
      },
      "execution_count": 19,
      "outputs": []
    },
    {
      "cell_type": "code",
      "source": [
        "# Convert categorical features to \"One Hot Encoding\" vectors and drop outliers\n",
        "clean_x_df_cat = x_df_cat.drop(x_df_cat.index[outliers]).reset_index(drop = True)\n",
        "# clean_x_df_cat_ohe = pd.get_dummies(clean_x_df_cat, drop_first=True)\n",
        "# dummies = pd.get_dummies(clean_x_df_cat)"
      ],
      "metadata": {
        "id": "odELrHkA6HGP"
      },
      "execution_count": 20,
      "outputs": []
    },
    {
      "cell_type": "code",
      "source": [
        "# Recombine scaled numerical and encoded categorical features by concatination\n",
        "x_df = pd.concat([clean_scaled_x_df_num, clean_x_df_cat], axis = 1)\n",
        "# x_df = pd.concat([clean_scaled_x_df_num, dummies], axis = 1)"
      ],
      "metadata": {
        "id": "IFtTb5SrIdFB"
      },
      "execution_count": 21,
      "outputs": []
    },
    {
      "cell_type": "code",
      "source": [
        "# Drop outliers from label Dataframe as well\n",
        "y_df = y_df.drop(y_df.index[outliers]).reset_index(drop = True)"
      ],
      "metadata": {
        "id": "Lk78cERI6L8W"
      },
      "execution_count": 22,
      "outputs": []
    },
    {
      "cell_type": "code",
      "source": [
        "print(len(y_df), len(x_df))"
      ],
      "metadata": {
        "colab": {
          "base_uri": "https://localhost:8080/"
        },
        "id": "7GWs3nhGXIrd",
        "outputId": "99d76a71-6ca6-441d-e1be-16ca702a626e"
      },
      "execution_count": 23,
      "outputs": [
        {
          "output_type": "stream",
          "name": "stdout",
          "text": [
            "12067 12067\n"
          ]
        }
      ]
    },
    {
      "cell_type": "code",
      "source": [
        "y_df.columns = ['Label']"
      ],
      "metadata": {
        "id": "Mvd4b72pXKvE"
      },
      "execution_count": 24,
      "outputs": []
    },
    {
      "cell_type": "code",
      "source": [
        "print(y_df.value_counts())\n",
        "print('\\nPositive label proportion: ')\n",
        "print(y_df.value_counts()/y_df.shape[0])"
      ],
      "metadata": {
        "colab": {
          "base_uri": "https://localhost:8080/"
        },
        "id": "QJ_1jTS_XO2m",
        "outputId": "3ae4b9a6-ccfc-45e9-e3d5-04d26d7cec68"
      },
      "execution_count": 25,
      "outputs": [
        {
          "output_type": "stream",
          "name": "stdout",
          "text": [
            "0    10658\n",
            "1     1409\n",
            "Name: Label, dtype: int64\n",
            "\n",
            "Positive label proportion: \n",
            "0    0.883235\n",
            "1    0.116765\n",
            "Name: Label, dtype: float64\n"
          ]
        }
      ]
    },
    {
      "cell_type": "code",
      "source": [
        "# write final files to local dir\n",
        "x_df.to_csv('/content/x_df.csv')\n",
        "y_df.to_csv('/content/y_df.csv')"
      ],
      "metadata": {
        "id": "OT9mfqLwnVZa"
      },
      "execution_count": 26,
      "outputs": []
    },
    {
      "cell_type": "code",
      "source": [
        "# Bagging Classifier time"
      ],
      "metadata": {
        "id": "VKv1FrnTvbfa"
      },
      "execution_count": null,
      "outputs": []
    },
    {
      "cell_type": "code",
      "source": [],
      "metadata": {
        "id": "ha-_vtwcvbdU"
      },
      "execution_count": null,
      "outputs": []
    },
    {
      "cell_type": "code",
      "source": [
        "# Import data\n",
        "y = pd.read_csv('/content/y_df.csv')\n",
        "X = pd.read_csv('/content/x_df.csv')"
      ],
      "metadata": {
        "id": "UmOtRxRIvbXv"
      },
      "execution_count": 33,
      "outputs": []
    },
    {
      "cell_type": "code",
      "source": [
        "# split into test & train\n",
        "test_size = 0.10\n",
        "seed= 7\n",
        "X = X.drop(columns = ['Unnamed: 0'])\n",
        "y = y.drop(columns = ['Unnamed: 0'])\n",
        "\n",
        "print(X.keys())\n",
        "print(y.keys())\n"
      ],
      "metadata": {
        "id": "Yw-kL5ANWYlF",
        "colab": {
          "base_uri": "https://localhost:8080/"
        },
        "outputId": "94e8ac18-75a1-4415-a24e-6831853d8397"
      },
      "execution_count": 34,
      "outputs": [
        {
          "output_type": "stream",
          "name": "stdout",
          "text": [
            "Index(['age', 'los', 'hr', 'nbp', 'spo2', 'rr', 'temp', 'discharge_location',\n",
            "       'insurance', 'ethnicity', 'icd9_code_1', 'gender',\n",
            "       'Medication_count_bin', 'num_unique_icd9_codes_bin'],\n",
            "      dtype='object')\n",
            "Index(['Label'], dtype='object')\n"
          ]
        }
      ]
    },
    {
      "cell_type": "code",
      "source": [
        "from sklearn.model_selection import train_test_split\n",
        "X_train, X_test, y_train, y_test = train_test_split(X, y, test_size=test_size, random_state=seed)"
      ],
      "metadata": {
        "id": "F74DVnvuvr_b"
      },
      "execution_count": 35,
      "outputs": []
    },
    {
      "cell_type": "code",
      "source": [
        "# balance training sets\n",
        "from imblearn.combine import SMOTETomek\n",
        "from imblearn.under_sampling import TomekLinks\n",
        "\n",
        "resample = SMOTETomek(tomek=TomekLinks(sampling_strategy='majority'))\n",
        "X_train,y_train = resample.fit_resample(X_train,y_train)"
      ],
      "metadata": {
        "id": "FP1z1_9HWYiy"
      },
      "execution_count": 36,
      "outputs": []
    },
    {
      "cell_type": "code",
      "source": [
        "# bagging classifier, but used properly\n",
        "from sklearn.ensemble import BaggingClassifier\n",
        "from sklearn import tree\n",
        "from sklearn import metrics\n",
        "from sklearn.metrics import confusion_matrix\n",
        "\n",
        "model = BaggingClassifier(tree.DecisionTreeClassifier(random_state = 1))\n",
        "model.fit(X_train, y_train)\n",
        "print(model.score(X_test, y_test))"
      ],
      "metadata": {
        "colab": {
          "base_uri": "https://localhost:8080/"
        },
        "id": "Fgb73D2oX00-",
        "outputId": "0cd88cca-e230-480b-a044-6f608c354a7e"
      },
      "execution_count": 37,
      "outputs": [
        {
          "output_type": "stream",
          "name": "stderr",
          "text": [
            "/usr/local/lib/python3.10/dist-packages/sklearn/ensemble/_bagging.py:802: DataConversionWarning: A column-vector y was passed when a 1d array was expected. Please change the shape of y to (n_samples, ), for example using ravel().\n",
            "  y = column_or_1d(y, warn=True)\n"
          ]
        },
        {
          "output_type": "stream",
          "name": "stdout",
          "text": [
            "0.8773819386909694\n"
          ]
        }
      ]
    },
    {
      "cell_type": "code",
      "source": [
        "import matplotlib.pyplot as plt\n",
        "import seaborn as sns\n",
        "import numpy as np\n",
        "\n",
        "y_pred2 = model.predict(X_test)\n",
        "conf_mat = confusion_matrix(y_true=y_test, y_pred=y_pred2)\n",
        "\n",
        "class_names=[0,1] # name  of classes\n",
        "fig, ax = plt.subplots()\n",
        "tick_marks = np.arange(len(class_names))\n",
        "plt.xticks(tick_marks, class_names)\n",
        "plt.yticks(tick_marks, class_names)\n",
        "# create heatmap\n",
        "sns.heatmap(pd.DataFrame(conf_mat), annot=True, cmap=\"YlGnBu\" ,fmt='g')\n",
        "ax.xaxis.set_label_position(\"top\")\n",
        "plt.tight_layout()\n",
        "plt.title('Confusion matrix: Bagging Classifier (Balanced)', y=1.1)\n",
        "plt.ylabel('Actual label')\n",
        "plt.xlabel('Predicted label')\n",
        "\n",
        "print(\"Bagging Classifier Accuracy:\",metrics.accuracy_score(y_test, y_pred2))\n",
        "\n",
        "# bagging classifier, with actual proper balancing results in an accuracy of 80.9%"
      ],
      "metadata": {
        "colab": {
          "base_uri": "https://localhost:8080/",
          "height": 569
        },
        "id": "JJ_jK74bYhyJ",
        "outputId": "e5bc0eca-3df4-4765-8bc6-5bec0170f2f3"
      },
      "execution_count": 38,
      "outputs": [
        {
          "output_type": "stream",
          "name": "stdout",
          "text": [
            "Bagging Classifier Accuracy: 0.8773819386909694\n"
          ]
        },
        {
          "output_type": "display_data",
          "data": {
            "text/plain": [
              "<Figure size 640x480 with 2 Axes>"
            ],
            "image/png": "[encoded data removed]"
          },
          "metadata": {}
        }
      ]
    },
    {
      "cell_type": "code",
      "source": [
        "from sklearn.metrics import precision_score, f1_score"
      ],
      "metadata": {
        "id": "AXm5LZkzw-mC"
      },
      "execution_count": 40,
      "outputs": []
    },
    {
      "cell_type": "code",
      "source": [
        "y_true=y_test\n",
        "y_pred=y_pred2\n",
        "\n",
        "precision = precision_score(y_true, y_pred)\n",
        "f1 = f1_score(y_true, y_pred)\n",
        "\n",
        "print(\"Precision:\", precision)\n",
        "print(\"F1 Score: \", f1)"
      ],
      "metadata": {
        "colab": {
          "base_uri": "https://localhost:8080/"
        },
        "id": "Q7982cFHwqaI",
        "outputId": "c5d40e14-0022-433e-b27f-32c767ce8889"
      },
      "execution_count": 41,
      "outputs": [
        {
          "output_type": "stream",
          "name": "stdout",
          "text": [
            "Precision: 0.40425531914893614\n",
            "F1 Score:  0.20430107526881722\n"
          ]
        }
      ]
    }
  ]
}