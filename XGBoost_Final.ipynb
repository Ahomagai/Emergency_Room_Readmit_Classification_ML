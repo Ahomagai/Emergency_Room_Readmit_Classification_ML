{
  "nbformat": 4,
  "nbformat_minor": 0,
  "metadata": {
    "colab": {
      "provenance": []
    },
    "kernelspec": {
      "name": "python3",
      "display_name": "Python 3"
    },
    "language_info": {
      "name": "python"
    }
  },
  "cells": [
    {
      "cell_type": "code",
      "execution_count": 1,
      "metadata": {
        "id": "DBKo7kYAmBf9"
      },
      "outputs": [],
      "source": [
        "# xgboost with proper data preprocessing\n",
        "import pandas as pd\n",
        "import numpy as np\n",
        "import matplotlib.pyplot as plt\n",
        "from sklearn.preprocessing import StandardScaler\n",
        "\n",
        "%matplotlib inline"
      ]
    },
    {
      "cell_type": "code",
      "source": [
        "from google.colab import files\n",
        "\n",
        "\n",
        "uploaded = files.upload()"
      ],
      "metadata": {
        "colab": {
          "base_uri": "https://localhost:8080/",
          "height": 74
        },
        "id": "Vy1QcyLhVmD_",
        "outputId": "415a87e5-a446-4dd9-d67f-e114d8c1395d"
      },
      "execution_count": 2,
      "outputs": [
        {
          "output_type": "display_data",
          "data": {
            "text/plain": [
              "<IPython.core.display.HTML object>"
            ],
            "text/html": [
              "\n",
              "     <input type=\"file\" id=\"files-9e69f501-1999-4a1c-a4ed-72c85d26212e\" name=\"files[]\" multiple disabled\n",
              "        style=\"border:none\" />\n",
              "     <output id=\"result-9e69f501-1999-4a1c-a4ed-72c85d26212e\">\n",
              "      Upload widget is only available when the cell has been executed in the\n",
              "      current browser session. Please rerun this cell to enable.\n",
              "      </output>\n",
              "      <script>// Copyright 2017 Google LLC\n",
              "//\n",
              "// Licensed under the Apache License, Version 2.0 (the \"License\");\n",
              "// you may not use this file except in compliance with the License.\n",
              "// You may obtain a copy of the License at\n",
              "//\n",
              "//      http://www.apache.org/licenses/LICENSE-2.0\n",
              "//\n",
              "// Unless required by applicable law or agreed to in writing, software\n",
              "// distributed under the License is distributed on an \"AS IS\" BASIS,\n",
              "// WITHOUT WARRANTIES OR CONDITIONS OF ANY KIND, either express or implied.\n",
              "// See the License for the specific language governing permissions and\n",
              "// limitations under the License.\n",
              "\n",
              "/**\n",
              " * @fileoverview Helpers for google.colab Python module.\n",
              " */\n",
              "(function(scope) {\n",
              "function span(text, styleAttributes = {}) {\n",
              "  const element = document.createElement('span');\n",
              "  element.textContent = text;\n",
              "  for (const key of Object.keys(styleAttributes)) {\n",
              "    element.style[key] = styleAttributes[key];\n",
              "  }\n",
              "  return element;\n",
              "}\n",
              "\n",
              "// Max number of bytes which will be uploaded at a time.\n",
              "const MAX_PAYLOAD_SIZE = 100 * 1024;\n",
              "\n",
              "function _uploadFiles(inputId, outputId) {\n",
              "  const steps = uploadFilesStep(inputId, outputId);\n",
              "  const outputElement = document.getElementById(outputId);\n",
              "  // Cache steps on the outputElement to make it available for the next call\n",
              "  // to uploadFilesContinue from Python.\n",
              "  outputElement.steps = steps;\n",
              "\n",
              "  return _uploadFilesContinue(outputId);\n",
              "}\n",
              "\n",
              "// This is roughly an async generator (not supported in the browser yet),\n",
              "// where there are multiple asynchronous steps and the Python side is going\n",
              "// to poll for completion of each step.\n",
              "// This uses a Promise to block the python side on completion of each step,\n",
              "// then passes the result of the previous step as the input to the next step.\n",
              "function _uploadFilesContinue(outputId) {\n",
              "  const outputElement = document.getElementById(outputId);\n",
              "  const steps = outputElement.steps;\n",
              "\n",
              "  const next = steps.next(outputElement.lastPromiseValue);\n",
              "  return Promise.resolve(next.value.promise).then((value) => {\n",
              "    // Cache the last promise value to make it available to the next\n",
              "    // step of the generator.\n",
              "    outputElement.lastPromiseValue = value;\n",
              "    return next.value.response;\n",
              "  });\n",
              "}\n",
              "\n",
              "/**\n",
              " * Generator function which is called between each async step of the upload\n",
              " * process.\n",
              " * @param {string} inputId Element ID of the input file picker element.\n",
              " * @param {string} outputId Element ID of the output display.\n",
              " * @return {!Iterable<!Object>} Iterable of next steps.\n",
              " */\n",
              "function* uploadFilesStep(inputId, outputId) {\n",
              "  const inputElement = document.getElementById(inputId);\n",
              "  inputElement.disabled = false;\n",
              "\n",
              "  const outputElement = document.getElementById(outputId);\n",
              "  outputElement.innerHTML = '';\n",
              "\n",
              "  const pickedPromise = new Promise((resolve) => {\n",
              "    inputElement.addEventListener('change', (e) => {\n",
              "      resolve(e.target.files);\n",
              "    });\n",
              "  });\n",
              "\n",
              "  const cancel = document.createElement('button');\n",
              "  inputElement.parentElement.appendChild(cancel);\n",
              "  cancel.textContent = 'Cancel upload';\n",
              "  const cancelPromise = new Promise((resolve) => {\n",
              "    cancel.onclick = () => {\n",
              "      resolve(null);\n",
              "    };\n",
              "  });\n",
              "\n",
              "  // Wait for the user to pick the files.\n",
              "  const files = yield {\n",
              "    promise: Promise.race([pickedPromise, cancelPromise]),\n",
              "    response: {\n",
              "      action: 'starting',\n",
              "    }\n",
              "  };\n",
              "\n",
              "  cancel.remove();\n",
              "\n",
              "  // Disable the input element since further picks are not allowed.\n",
              "  inputElement.disabled = true;\n",
              "\n",
              "  if (!files) {\n",
              "    return {\n",
              "      response: {\n",
              "        action: 'complete',\n",
              "      }\n",
              "    };\n",
              "  }\n",
              "\n",
              "  for (const file of files) {\n",
              "    const li = document.createElement('li');\n",
              "    li.append(span(file.name, {fontWeight: 'bold'}));\n",
              "    li.append(span(\n",
              "        `(${file.type || 'n/a'}) - ${file.size} bytes, ` +\n",
              "        `last modified: ${\n",
              "            file.lastModifiedDate ? file.lastModifiedDate.toLocaleDateString() :\n",
              "                                    'n/a'} - `));\n",
              "    const percent = span('0% done');\n",
              "    li.appendChild(percent);\n",
              "\n",
              "    outputElement.appendChild(li);\n",
              "\n",
              "    const fileDataPromise = new Promise((resolve) => {\n",
              "      const reader = new FileReader();\n",
              "      reader.onload = (e) => {\n",
              "        resolve(e.target.result);\n",
              "      };\n",
              "      reader.readAsArrayBuffer(file);\n",
              "    });\n",
              "    // Wait for the data to be ready.\n",
              "    let fileData = yield {\n",
              "      promise: fileDataPromise,\n",
              "      response: {\n",
              "        action: 'continue',\n",
              "      }\n",
              "    };\n",
              "\n",
              "    // Use a chunked sending to avoid message size limits. See b/62115660.\n",
              "    let position = 0;\n",
              "    do {\n",
              "      const length = Math.min(fileData.byteLength - position, MAX_PAYLOAD_SIZE);\n",
              "      const chunk = new Uint8Array(fileData, position, length);\n",
              "      position += length;\n",
              "\n",
              "      const base64 = btoa(String.fromCharCode.apply(null, chunk));\n",
              "      yield {\n",
              "        response: {\n",
              "          action: 'append',\n",
              "          file: file.name,\n",
              "          data: base64,\n",
              "        },\n",
              "      };\n",
              "\n",
              "      let percentDone = fileData.byteLength === 0 ?\n",
              "          100 :\n",
              "          Math.round((position / fileData.byteLength) * 100);\n",
              "      percent.textContent = `${percentDone}% done`;\n",
              "\n",
              "    } while (position < fileData.byteLength);\n",
              "  }\n",
              "\n",
              "  // All done.\n",
              "  yield {\n",
              "    response: {\n",
              "      action: 'complete',\n",
              "    }\n",
              "  };\n",
              "}\n",
              "\n",
              "scope.google = scope.google || {};\n",
              "scope.google.colab = scope.google.colab || {};\n",
              "scope.google.colab._files = {\n",
              "  _uploadFiles,\n",
              "  _uploadFilesContinue,\n",
              "};\n",
              "})(self);\n",
              "</script> "
            ]
          },
          "metadata": {}
        },
        {
          "output_type": "stream",
          "name": "stdout",
          "text": [
            "Saving mimic_v6_labelled.csv to mimic_v6_labelled.csv\n"
          ]
        }
      ]
    },
    {
      "cell_type": "code",
      "source": [
        "#import libraries and data\n",
        "import numpy as np\n",
        "import matplotlib.pyplot as plt\n",
        "from sklearn.preprocessing import StandardScaler\n",
        "import pandas as pd"
      ],
      "metadata": {
        "id": "qB25uj23YdGn"
      },
      "execution_count": 3,
      "outputs": []
    },
    {
      "cell_type": "code",
      "source": [
        "\n",
        "df = pd.read_csv(\"/content/mimic_v6_labelled.csv\")\n",
        "\n",
        "print(df.shape)"
      ],
      "metadata": {
        "colab": {
          "base_uri": "https://localhost:8080/"
        },
        "id": "dbgH41bjVkis",
        "outputId": "c3edb406-44f7-442d-9ec8-bb5944ce56f2"
      },
      "execution_count": 4,
      "outputs": [
        {
          "output_type": "stream",
          "name": "stdout",
          "text": [
            "(26176, 28)\n"
          ]
        }
      ]
    },
    {
      "cell_type": "code",
      "source": [
        "# Identify and replace erroneous temp values\n",
        "# Sort the DataFrame by subject_id and any other relevant column (e.g., timestamp)\n",
        "df.sort_values(by=['subject_id', 'admittime'], inplace=True)\n",
        "\n",
        "# Create a function to replace the values of 6 with the last value above 30\n",
        "def replace_values(group):\n",
        "    last_above_30 = None\n",
        "    new_temp = []\n",
        "\n",
        "    for temp in group['temp']:\n",
        "        if temp > 30:\n",
        "            last_above_30 = temp\n",
        "        elif last_above_30 is None:\n",
        "            last_above_30 = 36.66667  # Default value if no values above 30\n",
        "        new_temp.append(last_above_30 if temp in (4, 5, 6) else temp)\n",
        "\n",
        "    group['temp'] = new_temp\n",
        "    return group\n",
        "\n",
        "\n",
        "# Apply the function to each group of unique participants\n",
        "df = df.groupby('subject_id').apply(replace_values)\n",
        "\n",
        "# Reset the index of the DataFrame\n",
        "df.reset_index(drop=True, inplace=True)"
      ],
      "metadata": {
        "colab": {
          "base_uri": "https://localhost:8080/"
        },
        "id": "VCCBRhdiVxbz",
        "outputId": "b69e4012-4277-4d6e-e064-a4dcf8ce1210"
      },
      "execution_count": 5,
      "outputs": [
        {
          "output_type": "stream",
          "name": "stderr",
          "text": [
            "<ipython-input-5-63ef52bf1172>:22: FutureWarning: Not prepending group keys to the result index of transform-like apply. In the future, the group keys will be included in the index, regardless of whether the applied function returns a like-indexed object.\n",
            "To preserve the previous behavior, use\n",
            "\n",
            "\t>>> .groupby(..., group_keys=False)\n",
            "\n",
            "To adopt the future behavior and silence this warning, use \n",
            "\n",
            "\t>>> .groupby(..., group_keys=True)\n",
            "  df = df.groupby('subject_id').apply(replace_values)\n"
          ]
        }
      ]
    },
    {
      "cell_type": "code",
      "source": [
        "# clean df, remove unrequired features and setup categorical and numerical df\n",
        "df['Medication_count'] = df['unique_cv_items_count'] + df['unique_mv_items_count']\n",
        "\n",
        "\n",
        "bin_edges = [0, 1, 2, 3, 4, float('inf')]\n",
        "bin_labels = ['1', '2', '3', '4', '>4']\n",
        "\n",
        "# Apply binning to the 'num_unique_icd9_codes' column\n",
        "df['num_unique_icd9_codes_bin'] = pd.cut(df['num_unique_icd9_codes'], bins=bin_edges, labels=bin_labels)\n",
        "\n",
        "# Apply binning to the 'Medication_count' column\n",
        "df['Medication_count_bin'] = pd.cut(df['Medication_count'], bins=bin_edges, labels=bin_labels)\n",
        "\n",
        "df = df.drop(columns=['Unnamed: 0.1','Unnamed: 0','subject_id','admittime',\n",
        "                      'deathtime','marital_status',\n",
        "                      'hadm_id', 'icd9_code_2','icd9_code_3',\n",
        "                      'dischtime','admission_type',\n",
        "                      'unique_cv_items_count','unique_mv_items_count',\n",
        "                      'num_unique_icd9_codes','Medication_count','diagnosis'])\n",
        "\n",
        "df= df.dropna()"
      ],
      "metadata": {
        "id": "qnZODW_wV0TD"
      },
      "execution_count": 6,
      "outputs": []
    },
    {
      "cell_type": "code",
      "source": [
        "# replace Age > 300\n",
        "def replace_above_300(value):\n",
        "    if value > 300:\n",
        "        return value - 210\n",
        "    return value\n",
        "\n",
        "# Apply the function to the 'age' column\n",
        "df['age'] = df['age'].apply(replace_above_300)"
      ],
      "metadata": {
        "id": "m0DtfkbWWO_9"
      },
      "execution_count": 7,
      "outputs": []
    },
    {
      "cell_type": "code",
      "source": [
        "df.describe()"
      ],
      "metadata": {
        "colab": {
          "base_uri": "https://localhost:8080/",
          "height": 300
        },
        "id": "BuLK3MPQWQdd",
        "outputId": "2613d9b6-52d2-4f20-f246-5df87ca39e73"
      },
      "execution_count": 8,
      "outputs": [
        {
          "output_type": "execute_result",
          "data": {
            "text/plain": [
              "                age           los   icd9_code_1            hr            nbp  \\\n",
              "count  20883.000000  20883.000000  20883.000000  20883.000000   20883.000000   \n",
              "mean      63.304587     10.967243   4879.559690     88.512580      87.774858   \n",
              "std       17.304137     10.737337   3103.902339     20.586571     832.051419   \n",
              "min       18.022083     -0.116667     11.000000      0.000000       0.000000   \n",
              "25%       51.942804      4.739583   3601.000000     75.000000      69.000000   \n",
              "50%       64.843536      7.865972   3951.000000     87.000000      80.000000   \n",
              "75%       77.225612     13.505556   8102.000000    100.000000      92.333298   \n",
              "max      100.280859    202.762500   9978.000000    941.000000  120130.030000   \n",
              "\n",
              "               spo2            rr          temp         Label  \n",
              "count  20883.000000  20883.000000  20883.000000  20883.000000  \n",
              "mean      97.259015     18.516545     33.622603      0.121391  \n",
              "std        4.633746      6.203092     10.019697      0.326588  \n",
              "min        0.000000      0.000000      0.777778      0.000000  \n",
              "25%       96.000000     14.000000     36.444401      0.000000  \n",
              "50%       98.000000     18.000000     36.666670      0.000000  \n",
              "75%      100.000000     22.000000     36.666670      0.000000  \n",
              "max      100.000000    160.000000     40.833302      1.000000  "
            ],
            "text/html": [
              "\n",
              "  <div id=\"df-3a1228c1-45d2-4440-861c-bd891bbe041b\" class=\"colab-df-container\">\n",
              "    <div>\n",
              "<style scoped>\n",
              "    .dataframe tbody tr th:only-of-type {\n",
              "        vertical-align: middle;\n",
              "    }\n",
              "\n",
              "    .dataframe tbody tr th {\n",
              "        vertical-align: top;\n",
              "    }\n",
              "\n",
              "    .dataframe thead th {\n",
              "        text-align: right;\n",
              "    }\n",
              "</style>\n",
              "<table border=\"1\" class=\"dataframe\">\n",
              "  <thead>\n",
              "    <tr style=\"text-align: right;\">\n",
              "      <th></th>\n",
              "      <th>age</th>\n",
              "      <th>los</th>\n",
              "      <th>icd9_code_1</th>\n",
              "      <th>hr</th>\n",
              "      <th>nbp</th>\n",
              "      <th>spo2</th>\n",
              "      <th>rr</th>\n",
              "      <th>temp</th>\n",
              "      <th>Label</th>\n",
              "    </tr>\n",
              "  </thead>\n",
              "  <tbody>\n",
              "    <tr>\n",
              "      <th>count</th>\n",
              "      <td>20883.000000</td>\n",
              "      <td>20883.000000</td>\n",
              "      <td>20883.000000</td>\n",
              "      <td>20883.000000</td>\n",
              "      <td>20883.000000</td>\n",
              "      <td>20883.000000</td>\n",
              "      <td>20883.000000</td>\n",
              "      <td>20883.000000</td>\n",
              "      <td>20883.000000</td>\n",
              "    </tr>\n",
              "    <tr>\n",
              "      <th>mean</th>\n",
              "      <td>63.304587</td>\n",
              "      <td>10.967243</td>\n",
              "      <td>4879.559690</td>\n",
              "      <td>88.512580</td>\n",
              "      <td>87.774858</td>\n",
              "      <td>97.259015</td>\n",
              "      <td>18.516545</td>\n",
              "      <td>33.622603</td>\n",
              "      <td>0.121391</td>\n",
              "    </tr>\n",
              "    <tr>\n",
              "      <th>std</th>\n",
              "      <td>17.304137</td>\n",
              "      <td>10.737337</td>\n",
              "      <td>3103.902339</td>\n",
              "      <td>20.586571</td>\n",
              "      <td>832.051419</td>\n",
              "      <td>4.633746</td>\n",
              "      <td>6.203092</td>\n",
              "      <td>10.019697</td>\n",
              "      <td>0.326588</td>\n",
              "    </tr>\n",
              "    <tr>\n",
              "      <th>min</th>\n",
              "      <td>18.022083</td>\n",
              "      <td>-0.116667</td>\n",
              "      <td>11.000000</td>\n",
              "      <td>0.000000</td>\n",
              "      <td>0.000000</td>\n",
              "      <td>0.000000</td>\n",
              "      <td>0.000000</td>\n",
              "      <td>0.777778</td>\n",
              "      <td>0.000000</td>\n",
              "    </tr>\n",
              "    <tr>\n",
              "      <th>25%</th>\n",
              "      <td>51.942804</td>\n",
              "      <td>4.739583</td>\n",
              "      <td>3601.000000</td>\n",
              "      <td>75.000000</td>\n",
              "      <td>69.000000</td>\n",
              "      <td>96.000000</td>\n",
              "      <td>14.000000</td>\n",
              "      <td>36.444401</td>\n",
              "      <td>0.000000</td>\n",
              "    </tr>\n",
              "    <tr>\n",
              "      <th>50%</th>\n",
              "      <td>64.843536</td>\n",
              "      <td>7.865972</td>\n",
              "      <td>3951.000000</td>\n",
              "      <td>87.000000</td>\n",
              "      <td>80.000000</td>\n",
              "      <td>98.000000</td>\n",
              "      <td>18.000000</td>\n",
              "      <td>36.666670</td>\n",
              "      <td>0.000000</td>\n",
              "    </tr>\n",
              "    <tr>\n",
              "      <th>75%</th>\n",
              "      <td>77.225612</td>\n",
              "      <td>13.505556</td>\n",
              "      <td>8102.000000</td>\n",
              "      <td>100.000000</td>\n",
              "      <td>92.333298</td>\n",
              "      <td>100.000000</td>\n",
              "      <td>22.000000</td>\n",
              "      <td>36.666670</td>\n",
              "      <td>0.000000</td>\n",
              "    </tr>\n",
              "    <tr>\n",
              "      <th>max</th>\n",
              "      <td>100.280859</td>\n",
              "      <td>202.762500</td>\n",
              "      <td>9978.000000</td>\n",
              "      <td>941.000000</td>\n",
              "      <td>120130.030000</td>\n",
              "      <td>100.000000</td>\n",
              "      <td>160.000000</td>\n",
              "      <td>40.833302</td>\n",
              "      <td>1.000000</td>\n",
              "    </tr>\n",
              "  </tbody>\n",
              "</table>\n",
              "</div>\n",
              "    <div class=\"colab-df-buttons\">\n",
              "\n",
              "  <div class=\"colab-df-container\">\n",
              "    <button class=\"colab-df-convert\" onclick=\"convertToInteractive('df-3a1228c1-45d2-4440-861c-bd891bbe041b')\"\n",
              "            title=\"Convert this dataframe to an interactive table.\"\n",
              "            style=\"display:none;\">\n",
              "\n",
              "  <svg xmlns=\"http://www.w3.org/2000/svg\" height=\"24px\" viewBox=\"0 -960 960 960\">\n",
              "    <path d=\"M120-120v-720h720v720H120Zm60-500h600v-160H180v160Zm220 220h160v-160H400v160Zm0 220h160v-160H400v160ZM180-400h160v-160H180v160Zm440 0h160v-160H620v160ZM180-180h160v-160H180v160Zm440 0h160v-160H620v160Z\"/>\n",
              "  </svg>\n",
              "    </button>\n",
              "\n",
              "  <style>\n",
              "    .colab-df-container {\n",
              "      display:flex;\n",
              "      gap: 12px;\n",
              "    }\n",
              "\n",
              "    .colab-df-convert {\n",
              "      background-color: #E8F0FE;\n",
              "      border: none;\n",
              "      border-radius: 50%;\n",
              "      cursor: pointer;\n",
              "      display: none;\n",
              "      fill: #1967D2;\n",
              "      height: 32px;\n",
              "      padding: 0 0 0 0;\n",
              "      width: 32px;\n",
              "    }\n",
              "\n",
              "    .colab-df-convert:hover {\n",
              "      background-color: #E2EBFA;\n",
              "      box-shadow: 0px 1px 2px rgba(60, 64, 67, 0.3), 0px 1px 3px 1px rgba(60, 64, 67, 0.15);\n",
              "      fill: #174EA6;\n",
              "    }\n",
              "\n",
              "    .colab-df-buttons div {\n",
              "      margin-bottom: 4px;\n",
              "    }\n",
              "\n",
              "    [theme=dark] .colab-df-convert {\n",
              "      background-color: #3B4455;\n",
              "      fill: #D2E3FC;\n",
              "    }\n",
              "\n",
              "    [theme=dark] .colab-df-convert:hover {\n",
              "      background-color: #434B5C;\n",
              "      box-shadow: 0px 1px 3px 1px rgba(0, 0, 0, 0.15);\n",
              "      filter: drop-shadow(0px 1px 2px rgba(0, 0, 0, 0.3));\n",
              "      fill: #FFFFFF;\n",
              "    }\n",
              "  </style>\n",
              "\n",
              "    <script>\n",
              "      const buttonEl =\n",
              "        document.querySelector('#df-3a1228c1-45d2-4440-861c-bd891bbe041b button.colab-df-convert');\n",
              "      buttonEl.style.display =\n",
              "        google.colab.kernel.accessAllowed ? 'block' : 'none';\n",
              "\n",
              "      async function convertToInteractive(key) {\n",
              "        const element = document.querySelector('#df-3a1228c1-45d2-4440-861c-bd891bbe041b');\n",
              "        const dataTable =\n",
              "          await google.colab.kernel.invokeFunction('convertToInteractive',\n",
              "                                                    [key], {});\n",
              "        if (!dataTable) return;\n",
              "\n",
              "        const docLinkHtml = 'Like what you see? Visit the ' +\n",
              "          '<a target=\"_blank\" href=https://colab.research.google.com/notebooks/data_table.ipynb>data table notebook</a>'\n",
              "          + ' to learn more about interactive tables.';\n",
              "        element.innerHTML = '';\n",
              "        dataTable['output_type'] = 'display_data';\n",
              "        await google.colab.output.renderOutput(dataTable, element);\n",
              "        const docLink = document.createElement('div');\n",
              "        docLink.innerHTML = docLinkHtml;\n",
              "        element.appendChild(docLink);\n",
              "      }\n",
              "    </script>\n",
              "  </div>\n",
              "\n",
              "\n",
              "<div id=\"df-002b38f8-0bfd-449e-bec8-64eb0088d697\">\n",
              "  <button class=\"colab-df-quickchart\" onclick=\"quickchart('df-002b38f8-0bfd-449e-bec8-64eb0088d697')\"\n",
              "            title=\"Suggest charts.\"\n",
              "            style=\"display:none;\">\n",
              "\n",
              "<svg xmlns=\"http://www.w3.org/2000/svg\" height=\"24px\"viewBox=\"0 0 24 24\"\n",
              "     width=\"24px\">\n",
              "    <g>\n",
              "        <path d=\"M19 3H5c-1.1 0-2 .9-2 2v14c0 1.1.9 2 2 2h14c1.1 0 2-.9 2-2V5c0-1.1-.9-2-2-2zM9 17H7v-7h2v7zm4 0h-2V7h2v10zm4 0h-2v-4h2v4z\"/>\n",
              "    </g>\n",
              "</svg>\n",
              "  </button>\n",
              "\n",
              "<style>\n",
              "  .colab-df-quickchart {\n",
              "    background-color: #E8F0FE;\n",
              "    border: none;\n",
              "    border-radius: 50%;\n",
              "    cursor: pointer;\n",
              "    display: none;\n",
              "    fill: #1967D2;\n",
              "    height: 32px;\n",
              "    padding: 0 0 0 0;\n",
              "    width: 32px;\n",
              "  }\n",
              "\n",
              "  .colab-df-quickchart:hover {\n",
              "    background-color: #E2EBFA;\n",
              "    box-shadow: 0px 1px 2px rgba(60, 64, 67, 0.3), 0px 1px 3px 1px rgba(60, 64, 67, 0.15);\n",
              "    fill: #174EA6;\n",
              "  }\n",
              "\n",
              "  [theme=dark] .colab-df-quickchart {\n",
              "    background-color: #3B4455;\n",
              "    fill: #D2E3FC;\n",
              "  }\n",
              "\n",
              "  [theme=dark] .colab-df-quickchart:hover {\n",
              "    background-color: #434B5C;\n",
              "    box-shadow: 0px 1px 3px 1px rgba(0, 0, 0, 0.15);\n",
              "    filter: drop-shadow(0px 1px 2px rgba(0, 0, 0, 0.3));\n",
              "    fill: #FFFFFF;\n",
              "  }\n",
              "</style>\n",
              "\n",
              "  <script>\n",
              "    async function quickchart(key) {\n",
              "      const charts = await google.colab.kernel.invokeFunction(\n",
              "          'suggestCharts', [key], {});\n",
              "    }\n",
              "    (() => {\n",
              "      let quickchartButtonEl =\n",
              "        document.querySelector('#df-002b38f8-0bfd-449e-bec8-64eb0088d697 button');\n",
              "      quickchartButtonEl.style.display =\n",
              "        google.colab.kernel.accessAllowed ? 'block' : 'none';\n",
              "    })();\n",
              "  </script>\n",
              "</div>\n",
              "    </div>\n",
              "  </div>\n"
            ]
          },
          "metadata": {},
          "execution_count": 8
        }
      ]
    },
    {
      "cell_type": "code",
      "source": [
        "df.keys()"
      ],
      "metadata": {
        "colab": {
          "base_uri": "https://localhost:8080/"
        },
        "id": "Xv-XtGYiWR9e",
        "outputId": "b070f773-bbd0-4519-a856-d97a5c85d12b"
      },
      "execution_count": 9,
      "outputs": [
        {
          "output_type": "execute_result",
          "data": {
            "text/plain": [
              "Index(['age', 'gender', 'los', 'discharge_location', 'insurance', 'ethnicity',\n",
              "       'icd9_code_1', 'hr', 'nbp', 'spo2', 'rr', 'temp', 'Label',\n",
              "       'num_unique_icd9_codes_bin', 'Medication_count_bin'],\n",
              "      dtype='object')"
            ]
          },
          "metadata": {},
          "execution_count": 9
        }
      ]
    },
    {
      "cell_type": "code",
      "source": [
        "categ_columns = ['gender','discharge_location','insurance','ethnicity',\n",
        "                      'icd9_code_1','num_unique_icd9_codes_bin','Medication_count_bin']\n",
        "\n",
        "from sklearn.preprocessing import LabelEncoder\n",
        "\n",
        "label_encoders = {}\n",
        "for column in categ_columns:\n",
        "  label_encoder = LabelEncoder()\n",
        "  df[column] = label_encoder.fit_transform(df[column])\n",
        "  label_encoders[column] = label_encoder\n"
      ],
      "metadata": {
        "id": "BWQsgoTbe2aj"
      },
      "execution_count": 10,
      "outputs": []
    },
    {
      "cell_type": "code",
      "source": [
        "# split into X and y\n",
        "y_df = df['Label']\n",
        "y_df.columns = ['Label']"
      ],
      "metadata": {
        "id": "_YKd5w41WTg5"
      },
      "execution_count": 11,
      "outputs": []
    },
    {
      "cell_type": "code",
      "source": [
        "# Split X numerical and Categorical\n",
        "x_df = df.copy()\n",
        "\n",
        "#x_df_cat = x_df[['gender','discharge_location','insurance','ethnicity',\n",
        "               # 'icd9_code_1','num_unique_icd9_codes_bin','Medication_count_bin']].copy()\n",
        "\n",
        "x_df_cat = pd.get_dummies(df[['discharge_location','insurance','ethnicity','icd9_code_1','gender', 'Medication_count_bin', 'num_unique_icd9_codes_bin']])\n",
        "\n",
        "x_df_num = x_df.drop(['gender','discharge_location','insurance','ethnicity',\n",
        "                      'icd9_code_1','Label','num_unique_icd9_codes_bin','Medication_count_bin'], axis = 1).astype('float64')\n",
        "x_df_num"
      ],
      "metadata": {
        "colab": {
          "base_uri": "https://localhost:8080/",
          "height": 424
        },
        "id": "yKrznNDpWWhm",
        "outputId": "f4abd4c2-75c0-4bec-f38a-7b12ce563ab3"
      },
      "execution_count": 12,
      "outputs": [
        {
          "output_type": "execute_result",
          "data": {
            "text/plain": [
              "             age        los     hr         nbp   spo2    rr       temp\n",
              "0      76.526788  10.784722   95.0   36.666698   98.0  16.0  36.055599\n",
              "1      47.845044   7.759028  111.0   80.666702   98.0  18.0  37.444401\n",
              "2      50.148292  25.529167   90.0   64.000000   96.0  19.0  37.222198\n",
              "3      39.866116   6.855556   80.0   71.333298   98.0  19.0  37.277802\n",
              "5      50.841554   2.206250   95.0  113.667000  100.0  27.0  37.666698\n",
              "...          ...        ...    ...         ...    ...   ...        ...\n",
              "26171  65.262831   6.814583   71.0   66.000000   95.0  18.0  36.666670\n",
              "26172  65.377831   6.128472   94.0   71.000000   99.0  21.0  36.666670\n",
              "26173  78.576622   3.079861   69.0   82.000000   98.0  21.0  36.666670\n",
              "26174  53.808478  16.595833  118.0  102.000000   84.0  33.0  36.666670\n",
              "26175  65.772151   2.995139   69.0   69.000000   95.0  20.0  36.666670\n",
              "\n",
              "[20883 rows x 7 columns]"
            ],
            "text/html": [
              "\n",
              "  <div id=\"df-85e7604e-bcd0-4668-8a11-3eb88c47a9de\" class=\"colab-df-container\">\n",
              "    <div>\n",
              "<style scoped>\n",
              "    .dataframe tbody tr th:only-of-type {\n",
              "        vertical-align: middle;\n",
              "    }\n",
              "\n",
              "    .dataframe tbody tr th {\n",
              "        vertical-align: top;\n",
              "    }\n",
              "\n",
              "    .dataframe thead th {\n",
              "        text-align: right;\n",
              "    }\n",
              "</style>\n",
              "<table border=\"1\" class=\"dataframe\">\n",
              "  <thead>\n",
              "    <tr style=\"text-align: right;\">\n",
              "      <th></th>\n",
              "      <th>age</th>\n",
              "      <th>los</th>\n",
              "      <th>hr</th>\n",
              "      <th>nbp</th>\n",
              "      <th>spo2</th>\n",
              "      <th>rr</th>\n",
              "      <th>temp</th>\n",
              "    </tr>\n",
              "  </thead>\n",
              "  <tbody>\n",
              "    <tr>\n",
              "      <th>0</th>\n",
              "      <td>76.526788</td>\n",
              "      <td>10.784722</td>\n",
              "      <td>95.0</td>\n",
              "      <td>36.666698</td>\n",
              "      <td>98.0</td>\n",
              "      <td>16.0</td>\n",
              "      <td>36.055599</td>\n",
              "    </tr>\n",
              "    <tr>\n",
              "      <th>1</th>\n",
              "      <td>47.845044</td>\n",
              "      <td>7.759028</td>\n",
              "      <td>111.0</td>\n",
              "      <td>80.666702</td>\n",
              "      <td>98.0</td>\n",
              "      <td>18.0</td>\n",
              "      <td>37.444401</td>\n",
              "    </tr>\n",
              "    <tr>\n",
              "      <th>2</th>\n",
              "      <td>50.148292</td>\n",
              "      <td>25.529167</td>\n",
              "      <td>90.0</td>\n",
              "      <td>64.000000</td>\n",
              "      <td>96.0</td>\n",
              "      <td>19.0</td>\n",
              "      <td>37.222198</td>\n",
              "    </tr>\n",
              "    <tr>\n",
              "      <th>3</th>\n",
              "      <td>39.866116</td>\n",
              "      <td>6.855556</td>\n",
              "      <td>80.0</td>\n",
              "      <td>71.333298</td>\n",
              "      <td>98.0</td>\n",
              "      <td>19.0</td>\n",
              "      <td>37.277802</td>\n",
              "    </tr>\n",
              "    <tr>\n",
              "      <th>5</th>\n",
              "      <td>50.841554</td>\n",
              "      <td>2.206250</td>\n",
              "      <td>95.0</td>\n",
              "      <td>113.667000</td>\n",
              "      <td>100.0</td>\n",
              "      <td>27.0</td>\n",
              "      <td>37.666698</td>\n",
              "    </tr>\n",
              "    <tr>\n",
              "      <th>...</th>\n",
              "      <td>...</td>\n",
              "      <td>...</td>\n",
              "      <td>...</td>\n",
              "      <td>...</td>\n",
              "      <td>...</td>\n",
              "      <td>...</td>\n",
              "      <td>...</td>\n",
              "    </tr>\n",
              "    <tr>\n",
              "      <th>26171</th>\n",
              "      <td>65.262831</td>\n",
              "      <td>6.814583</td>\n",
              "      <td>71.0</td>\n",
              "      <td>66.000000</td>\n",
              "      <td>95.0</td>\n",
              "      <td>18.0</td>\n",
              "      <td>36.666670</td>\n",
              "    </tr>\n",
              "    <tr>\n",
              "      <th>26172</th>\n",
              "      <td>65.377831</td>\n",
              "      <td>6.128472</td>\n",
              "      <td>94.0</td>\n",
              "      <td>71.000000</td>\n",
              "      <td>99.0</td>\n",
              "      <td>21.0</td>\n",
              "      <td>36.666670</td>\n",
              "    </tr>\n",
              "    <tr>\n",
              "      <th>26173</th>\n",
              "      <td>78.576622</td>\n",
              "      <td>3.079861</td>\n",
              "      <td>69.0</td>\n",
              "      <td>82.000000</td>\n",
              "      <td>98.0</td>\n",
              "      <td>21.0</td>\n",
              "      <td>36.666670</td>\n",
              "    </tr>\n",
              "    <tr>\n",
              "      <th>26174</th>\n",
              "      <td>53.808478</td>\n",
              "      <td>16.595833</td>\n",
              "      <td>118.0</td>\n",
              "      <td>102.000000</td>\n",
              "      <td>84.0</td>\n",
              "      <td>33.0</td>\n",
              "      <td>36.666670</td>\n",
              "    </tr>\n",
              "    <tr>\n",
              "      <th>26175</th>\n",
              "      <td>65.772151</td>\n",
              "      <td>2.995139</td>\n",
              "      <td>69.0</td>\n",
              "      <td>69.000000</td>\n",
              "      <td>95.0</td>\n",
              "      <td>20.0</td>\n",
              "      <td>36.666670</td>\n",
              "    </tr>\n",
              "  </tbody>\n",
              "</table>\n",
              "<p>20883 rows × 7 columns</p>\n",
              "</div>\n",
              "    <div class=\"colab-df-buttons\">\n",
              "\n",
              "  <div class=\"colab-df-container\">\n",
              "    <button class=\"colab-df-convert\" onclick=\"convertToInteractive('df-85e7604e-bcd0-4668-8a11-3eb88c47a9de')\"\n",
              "            title=\"Convert this dataframe to an interactive table.\"\n",
              "            style=\"display:none;\">\n",
              "\n",
              "  <svg xmlns=\"http://www.w3.org/2000/svg\" height=\"24px\" viewBox=\"0 -960 960 960\">\n",
              "    <path d=\"M120-120v-720h720v720H120Zm60-500h600v-160H180v160Zm220 220h160v-160H400v160Zm0 220h160v-160H400v160ZM180-400h160v-160H180v160Zm440 0h160v-160H620v160ZM180-180h160v-160H180v160Zm440 0h160v-160H620v160Z\"/>\n",
              "  </svg>\n",
              "    </button>\n",
              "\n",
              "  <style>\n",
              "    .colab-df-container {\n",
              "      display:flex;\n",
              "      gap: 12px;\n",
              "    }\n",
              "\n",
              "    .colab-df-convert {\n",
              "      background-color: #E8F0FE;\n",
              "      border: none;\n",
              "      border-radius: 50%;\n",
              "      cursor: pointer;\n",
              "      display: none;\n",
              "      fill: #1967D2;\n",
              "      height: 32px;\n",
              "      padding: 0 0 0 0;\n",
              "      width: 32px;\n",
              "    }\n",
              "\n",
              "    .colab-df-convert:hover {\n",
              "      background-color: #E2EBFA;\n",
              "      box-shadow: 0px 1px 2px rgba(60, 64, 67, 0.3), 0px 1px 3px 1px rgba(60, 64, 67, 0.15);\n",
              "      fill: #174EA6;\n",
              "    }\n",
              "\n",
              "    .colab-df-buttons div {\n",
              "      margin-bottom: 4px;\n",
              "    }\n",
              "\n",
              "    [theme=dark] .colab-df-convert {\n",
              "      background-color: #3B4455;\n",
              "      fill: #D2E3FC;\n",
              "    }\n",
              "\n",
              "    [theme=dark] .colab-df-convert:hover {\n",
              "      background-color: #434B5C;\n",
              "      box-shadow: 0px 1px 3px 1px rgba(0, 0, 0, 0.15);\n",
              "      filter: drop-shadow(0px 1px 2px rgba(0, 0, 0, 0.3));\n",
              "      fill: #FFFFFF;\n",
              "    }\n",
              "  </style>\n",
              "\n",
              "    <script>\n",
              "      const buttonEl =\n",
              "        document.querySelector('#df-85e7604e-bcd0-4668-8a11-3eb88c47a9de button.colab-df-convert');\n",
              "      buttonEl.style.display =\n",
              "        google.colab.kernel.accessAllowed ? 'block' : 'none';\n",
              "\n",
              "      async function convertToInteractive(key) {\n",
              "        const element = document.querySelector('#df-85e7604e-bcd0-4668-8a11-3eb88c47a9de');\n",
              "        const dataTable =\n",
              "          await google.colab.kernel.invokeFunction('convertToInteractive',\n",
              "                                                    [key], {});\n",
              "        if (!dataTable) return;\n",
              "\n",
              "        const docLinkHtml = 'Like what you see? Visit the ' +\n",
              "          '<a target=\"_blank\" href=https://colab.research.google.com/notebooks/data_table.ipynb>data table notebook</a>'\n",
              "          + ' to learn more about interactive tables.';\n",
              "        element.innerHTML = '';\n",
              "        dataTable['output_type'] = 'display_data';\n",
              "        await google.colab.output.renderOutput(dataTable, element);\n",
              "        const docLink = document.createElement('div');\n",
              "        docLink.innerHTML = docLinkHtml;\n",
              "        element.appendChild(docLink);\n",
              "      }\n",
              "    </script>\n",
              "  </div>\n",
              "\n",
              "\n",
              "<div id=\"df-0701cad2-7ec3-48c5-9a2c-11f014c9103b\">\n",
              "  <button class=\"colab-df-quickchart\" onclick=\"quickchart('df-0701cad2-7ec3-48c5-9a2c-11f014c9103b')\"\n",
              "            title=\"Suggest charts.\"\n",
              "            style=\"display:none;\">\n",
              "\n",
              "<svg xmlns=\"http://www.w3.org/2000/svg\" height=\"24px\"viewBox=\"0 0 24 24\"\n",
              "     width=\"24px\">\n",
              "    <g>\n",
              "        <path d=\"M19 3H5c-1.1 0-2 .9-2 2v14c0 1.1.9 2 2 2h14c1.1 0 2-.9 2-2V5c0-1.1-.9-2-2-2zM9 17H7v-7h2v7zm4 0h-2V7h2v10zm4 0h-2v-4h2v4z\"/>\n",
              "    </g>\n",
              "</svg>\n",
              "  </button>\n",
              "\n",
              "<style>\n",
              "  .colab-df-quickchart {\n",
              "    background-color: #E8F0FE;\n",
              "    border: none;\n",
              "    border-radius: 50%;\n",
              "    cursor: pointer;\n",
              "    display: none;\n",
              "    fill: #1967D2;\n",
              "    height: 32px;\n",
              "    padding: 0 0 0 0;\n",
              "    width: 32px;\n",
              "  }\n",
              "\n",
              "  .colab-df-quickchart:hover {\n",
              "    background-color: #E2EBFA;\n",
              "    box-shadow: 0px 1px 2px rgba(60, 64, 67, 0.3), 0px 1px 3px 1px rgba(60, 64, 67, 0.15);\n",
              "    fill: #174EA6;\n",
              "  }\n",
              "\n",
              "  [theme=dark] .colab-df-quickchart {\n",
              "    background-color: #3B4455;\n",
              "    fill: #D2E3FC;\n",
              "  }\n",
              "\n",
              "  [theme=dark] .colab-df-quickchart:hover {\n",
              "    background-color: #434B5C;\n",
              "    box-shadow: 0px 1px 3px 1px rgba(0, 0, 0, 0.15);\n",
              "    filter: drop-shadow(0px 1px 2px rgba(0, 0, 0, 0.3));\n",
              "    fill: #FFFFFF;\n",
              "  }\n",
              "</style>\n",
              "\n",
              "  <script>\n",
              "    async function quickchart(key) {\n",
              "      const charts = await google.colab.kernel.invokeFunction(\n",
              "          'suggestCharts', [key], {});\n",
              "    }\n",
              "    (() => {\n",
              "      let quickchartButtonEl =\n",
              "        document.querySelector('#df-0701cad2-7ec3-48c5-9a2c-11f014c9103b button');\n",
              "      quickchartButtonEl.style.display =\n",
              "        google.colab.kernel.accessAllowed ? 'block' : 'none';\n",
              "    })();\n",
              "  </script>\n",
              "</div>\n",
              "    </div>\n",
              "  </div>\n"
            ]
          },
          "metadata": {},
          "execution_count": 12
        }
      ]
    },
    {
      "cell_type": "code",
      "source": [
        "# numerical is under x_df_num\n",
        "X_numerical = x_df_num"
      ],
      "metadata": {
        "id": "q3mR4drxiwI5"
      },
      "execution_count": 13,
      "outputs": []
    },
    {
      "cell_type": "code",
      "source": [
        "print(len(x_df), len(y_df), len(x_df_num))"
      ],
      "metadata": {
        "colab": {
          "base_uri": "https://localhost:8080/"
        },
        "id": "n6WaX-9yWvr-",
        "outputId": "5f2ac968-0b81-4a1c-b9e6-1217e8951f49"
      },
      "execution_count": 14,
      "outputs": [
        {
          "output_type": "stream",
          "name": "stdout",
          "text": [
            "20883 20883 20883\n"
          ]
        }
      ]
    },
    {
      "cell_type": "code",
      "source": [
        "list_numerical = X_numerical.columns\n",
        "list_numerical"
      ],
      "metadata": {
        "colab": {
          "base_uri": "https://localhost:8080/"
        },
        "id": "zmd9Z7SCjkPb",
        "outputId": "c1ac8b78-675a-48c2-fbdb-98e5cc98303d"
      },
      "execution_count": 15,
      "outputs": [
        {
          "output_type": "execute_result",
          "data": {
            "text/plain": [
              "Index(['age', 'los', 'hr', 'nbp', 'spo2', 'rr', 'temp'], dtype='object')"
            ]
          },
          "metadata": {},
          "execution_count": 15
        }
      ]
    },
    {
      "cell_type": "code",
      "source": [
        "for key in x_df_cat.keys():\n",
        "    print('CATEGORICAL KEYS', key)\n",
        "\n",
        "for key in x_df_num.keys():\n",
        "    print('\\n','NUMERIC KEYS',key)"
      ],
      "metadata": {
        "colab": {
          "base_uri": "https://localhost:8080/"
        },
        "id": "m-ud3mLIWXTI",
        "outputId": "2f7966be-5e10-4694-cd97-fc1abf1828dc"
      },
      "execution_count": 16,
      "outputs": [
        {
          "output_type": "stream",
          "name": "stdout",
          "text": [
            "CATEGORICAL KEYS discharge_location\n",
            "CATEGORICAL KEYS insurance\n",
            "CATEGORICAL KEYS ethnicity\n",
            "CATEGORICAL KEYS icd9_code_1\n",
            "CATEGORICAL KEYS gender\n",
            "CATEGORICAL KEYS Medication_count_bin\n",
            "CATEGORICAL KEYS num_unique_icd9_codes_bin\n",
            "\n",
            " NUMERIC KEYS age\n",
            "\n",
            " NUMERIC KEYS los\n",
            "\n",
            " NUMERIC KEYS hr\n",
            "\n",
            " NUMERIC KEYS nbp\n",
            "\n",
            " NUMERIC KEYS spo2\n",
            "\n",
            " NUMERIC KEYS rr\n",
            "\n",
            " NUMERIC KEYS temp\n"
          ]
        }
      ]
    },
    {
      "cell_type": "code",
      "source": [
        "# Scale numerical features\n",
        "scaled_x_df_num = pd.DataFrame(StandardScaler().fit_transform(x_df_num), columns = x_df_num.keys())"
      ],
      "metadata": {
        "id": "fj_QxyN-Wkif"
      },
      "execution_count": 17,
      "outputs": []
    },
    {
      "cell_type": "code",
      "source": [
        "scaled_x_df_num.describe()"
      ],
      "metadata": {
        "colab": {
          "base_uri": "https://localhost:8080/",
          "height": 300
        },
        "id": "Dq7ZTVVPWn-D",
        "outputId": "1935fdcf-a77d-46f8-9551-4ddef1658ac5"
      },
      "execution_count": 18,
      "outputs": [
        {
          "output_type": "execute_result",
          "data": {
            "text/plain": [
              "                age           los            hr           nbp          spo2  \\\n",
              "count  2.088300e+04  2.088300e+04  2.088300e+04  2.088300e+04  2.088300e+04   \n",
              "mean  -5.335110e-16 -1.224898e-16 -1.742077e-16 -1.360997e-18  2.653945e-17   \n",
              "std    1.000024e+00  1.000024e+00  1.000024e+00  1.000024e+00  1.000024e+00   \n",
              "min   -2.616923e+00 -1.032302e+00 -4.299633e+00 -1.054946e-01 -2.098979e+01   \n",
              "25%   -6.566092e-01 -5.800142e-01 -6.563941e-01 -2.256508e-02 -2.717121e-01   \n",
              "50%    8.893741e-02 -2.888374e-01 -7.347585e-02 -9.344428e-03  1.599145e-01   \n",
              "75%    8.045104e-01  2.364062e-01  5.580189e-01  5.478686e-03  5.915411e-01   \n",
              "max    2.136897e+00  1.786289e+01  4.141087e+01  1.442761e+02  5.915411e-01   \n",
              "\n",
              "                 rr          temp  \n",
              "count  2.088300e+04  2.088300e+04  \n",
              "mean  -2.041496e-16  6.532788e-16  \n",
              "std    1.000024e+00  1.000024e+00  \n",
              "min   -2.985122e+00 -3.278104e+00  \n",
              "25%   -7.281292e-01  2.816318e-01  \n",
              "50%   -8.327410e-02  3.038155e-01  \n",
              "75%    5.615810e-01  3.038155e-01  \n",
              "max    2.280908e+01  7.196695e-01  "
            ],
            "text/html": [
              "\n",
              "  <div id=\"df-c1d6db72-f73f-4e3e-b44a-9f858578782f\" class=\"colab-df-container\">\n",
              "    <div>\n",
              "<style scoped>\n",
              "    .dataframe tbody tr th:only-of-type {\n",
              "        vertical-align: middle;\n",
              "    }\n",
              "\n",
              "    .dataframe tbody tr th {\n",
              "        vertical-align: top;\n",
              "    }\n",
              "\n",
              "    .dataframe thead th {\n",
              "        text-align: right;\n",
              "    }\n",
              "</style>\n",
              "<table border=\"1\" class=\"dataframe\">\n",
              "  <thead>\n",
              "    <tr style=\"text-align: right;\">\n",
              "      <th></th>\n",
              "      <th>age</th>\n",
              "      <th>los</th>\n",
              "      <th>hr</th>\n",
              "      <th>nbp</th>\n",
              "      <th>spo2</th>\n",
              "      <th>rr</th>\n",
              "      <th>temp</th>\n",
              "    </tr>\n",
              "  </thead>\n",
              "  <tbody>\n",
              "    <tr>\n",
              "      <th>count</th>\n",
              "      <td>2.088300e+04</td>\n",
              "      <td>2.088300e+04</td>\n",
              "      <td>2.088300e+04</td>\n",
              "      <td>2.088300e+04</td>\n",
              "      <td>2.088300e+04</td>\n",
              "      <td>2.088300e+04</td>\n",
              "      <td>2.088300e+04</td>\n",
              "    </tr>\n",
              "    <tr>\n",
              "      <th>mean</th>\n",
              "      <td>-5.335110e-16</td>\n",
              "      <td>-1.224898e-16</td>\n",
              "      <td>-1.742077e-16</td>\n",
              "      <td>-1.360997e-18</td>\n",
              "      <td>2.653945e-17</td>\n",
              "      <td>-2.041496e-16</td>\n",
              "      <td>6.532788e-16</td>\n",
              "    </tr>\n",
              "    <tr>\n",
              "      <th>std</th>\n",
              "      <td>1.000024e+00</td>\n",
              "      <td>1.000024e+00</td>\n",
              "      <td>1.000024e+00</td>\n",
              "      <td>1.000024e+00</td>\n",
              "      <td>1.000024e+00</td>\n",
              "      <td>1.000024e+00</td>\n",
              "      <td>1.000024e+00</td>\n",
              "    </tr>\n",
              "    <tr>\n",
              "      <th>min</th>\n",
              "      <td>-2.616923e+00</td>\n",
              "      <td>-1.032302e+00</td>\n",
              "      <td>-4.299633e+00</td>\n",
              "      <td>-1.054946e-01</td>\n",
              "      <td>-2.098979e+01</td>\n",
              "      <td>-2.985122e+00</td>\n",
              "      <td>-3.278104e+00</td>\n",
              "    </tr>\n",
              "    <tr>\n",
              "      <th>25%</th>\n",
              "      <td>-6.566092e-01</td>\n",
              "      <td>-5.800142e-01</td>\n",
              "      <td>-6.563941e-01</td>\n",
              "      <td>-2.256508e-02</td>\n",
              "      <td>-2.717121e-01</td>\n",
              "      <td>-7.281292e-01</td>\n",
              "      <td>2.816318e-01</td>\n",
              "    </tr>\n",
              "    <tr>\n",
              "      <th>50%</th>\n",
              "      <td>8.893741e-02</td>\n",
              "      <td>-2.888374e-01</td>\n",
              "      <td>-7.347585e-02</td>\n",
              "      <td>-9.344428e-03</td>\n",
              "      <td>1.599145e-01</td>\n",
              "      <td>-8.327410e-02</td>\n",
              "      <td>3.038155e-01</td>\n",
              "    </tr>\n",
              "    <tr>\n",
              "      <th>75%</th>\n",
              "      <td>8.045104e-01</td>\n",
              "      <td>2.364062e-01</td>\n",
              "      <td>5.580189e-01</td>\n",
              "      <td>5.478686e-03</td>\n",
              "      <td>5.915411e-01</td>\n",
              "      <td>5.615810e-01</td>\n",
              "      <td>3.038155e-01</td>\n",
              "    </tr>\n",
              "    <tr>\n",
              "      <th>max</th>\n",
              "      <td>2.136897e+00</td>\n",
              "      <td>1.786289e+01</td>\n",
              "      <td>4.141087e+01</td>\n",
              "      <td>1.442761e+02</td>\n",
              "      <td>5.915411e-01</td>\n",
              "      <td>2.280908e+01</td>\n",
              "      <td>7.196695e-01</td>\n",
              "    </tr>\n",
              "  </tbody>\n",
              "</table>\n",
              "</div>\n",
              "    <div class=\"colab-df-buttons\">\n",
              "\n",
              "  <div class=\"colab-df-container\">\n",
              "    <button class=\"colab-df-convert\" onclick=\"convertToInteractive('df-c1d6db72-f73f-4e3e-b44a-9f858578782f')\"\n",
              "            title=\"Convert this dataframe to an interactive table.\"\n",
              "            style=\"display:none;\">\n",
              "\n",
              "  <svg xmlns=\"http://www.w3.org/2000/svg\" height=\"24px\" viewBox=\"0 -960 960 960\">\n",
              "    <path d=\"M120-120v-720h720v720H120Zm60-500h600v-160H180v160Zm220 220h160v-160H400v160Zm0 220h160v-160H400v160ZM180-400h160v-160H180v160Zm440 0h160v-160H620v160ZM180-180h160v-160H180v160Zm440 0h160v-160H620v160Z\"/>\n",
              "  </svg>\n",
              "    </button>\n",
              "\n",
              "  <style>\n",
              "    .colab-df-container {\n",
              "      display:flex;\n",
              "      gap: 12px;\n",
              "    }\n",
              "\n",
              "    .colab-df-convert {\n",
              "      background-color: #E8F0FE;\n",
              "      border: none;\n",
              "      border-radius: 50%;\n",
              "      cursor: pointer;\n",
              "      display: none;\n",
              "      fill: #1967D2;\n",
              "      height: 32px;\n",
              "      padding: 0 0 0 0;\n",
              "      width: 32px;\n",
              "    }\n",
              "\n",
              "    .colab-df-convert:hover {\n",
              "      background-color: #E2EBFA;\n",
              "      box-shadow: 0px 1px 2px rgba(60, 64, 67, 0.3), 0px 1px 3px 1px rgba(60, 64, 67, 0.15);\n",
              "      fill: #174EA6;\n",
              "    }\n",
              "\n",
              "    .colab-df-buttons div {\n",
              "      margin-bottom: 4px;\n",
              "    }\n",
              "\n",
              "    [theme=dark] .colab-df-convert {\n",
              "      background-color: #3B4455;\n",
              "      fill: #D2E3FC;\n",
              "    }\n",
              "\n",
              "    [theme=dark] .colab-df-convert:hover {\n",
              "      background-color: #434B5C;\n",
              "      box-shadow: 0px 1px 3px 1px rgba(0, 0, 0, 0.15);\n",
              "      filter: drop-shadow(0px 1px 2px rgba(0, 0, 0, 0.3));\n",
              "      fill: #FFFFFF;\n",
              "    }\n",
              "  </style>\n",
              "\n",
              "    <script>\n",
              "      const buttonEl =\n",
              "        document.querySelector('#df-c1d6db72-f73f-4e3e-b44a-9f858578782f button.colab-df-convert');\n",
              "      buttonEl.style.display =\n",
              "        google.colab.kernel.accessAllowed ? 'block' : 'none';\n",
              "\n",
              "      async function convertToInteractive(key) {\n",
              "        const element = document.querySelector('#df-c1d6db72-f73f-4e3e-b44a-9f858578782f');\n",
              "        const dataTable =\n",
              "          await google.colab.kernel.invokeFunction('convertToInteractive',\n",
              "                                                    [key], {});\n",
              "        if (!dataTable) return;\n",
              "\n",
              "        const docLinkHtml = 'Like what you see? Visit the ' +\n",
              "          '<a target=\"_blank\" href=https://colab.research.google.com/notebooks/data_table.ipynb>data table notebook</a>'\n",
              "          + ' to learn more about interactive tables.';\n",
              "        element.innerHTML = '';\n",
              "        dataTable['output_type'] = 'display_data';\n",
              "        await google.colab.output.renderOutput(dataTable, element);\n",
              "        const docLink = document.createElement('div');\n",
              "        docLink.innerHTML = docLinkHtml;\n",
              "        element.appendChild(docLink);\n",
              "      }\n",
              "    </script>\n",
              "  </div>\n",
              "\n",
              "\n",
              "<div id=\"df-1c081ee1-ed29-46b6-876f-833e9afdb3fa\">\n",
              "  <button class=\"colab-df-quickchart\" onclick=\"quickchart('df-1c081ee1-ed29-46b6-876f-833e9afdb3fa')\"\n",
              "            title=\"Suggest charts.\"\n",
              "            style=\"display:none;\">\n",
              "\n",
              "<svg xmlns=\"http://www.w3.org/2000/svg\" height=\"24px\"viewBox=\"0 0 24 24\"\n",
              "     width=\"24px\">\n",
              "    <g>\n",
              "        <path d=\"M19 3H5c-1.1 0-2 .9-2 2v14c0 1.1.9 2 2 2h14c1.1 0 2-.9 2-2V5c0-1.1-.9-2-2-2zM9 17H7v-7h2v7zm4 0h-2V7h2v10zm4 0h-2v-4h2v4z\"/>\n",
              "    </g>\n",
              "</svg>\n",
              "  </button>\n",
              "\n",
              "<style>\n",
              "  .colab-df-quickchart {\n",
              "    background-color: #E8F0FE;\n",
              "    border: none;\n",
              "    border-radius: 50%;\n",
              "    cursor: pointer;\n",
              "    display: none;\n",
              "    fill: #1967D2;\n",
              "    height: 32px;\n",
              "    padding: 0 0 0 0;\n",
              "    width: 32px;\n",
              "  }\n",
              "\n",
              "  .colab-df-quickchart:hover {\n",
              "    background-color: #E2EBFA;\n",
              "    box-shadow: 0px 1px 2px rgba(60, 64, 67, 0.3), 0px 1px 3px 1px rgba(60, 64, 67, 0.15);\n",
              "    fill: #174EA6;\n",
              "  }\n",
              "\n",
              "  [theme=dark] .colab-df-quickchart {\n",
              "    background-color: #3B4455;\n",
              "    fill: #D2E3FC;\n",
              "  }\n",
              "\n",
              "  [theme=dark] .colab-df-quickchart:hover {\n",
              "    background-color: #434B5C;\n",
              "    box-shadow: 0px 1px 3px 1px rgba(0, 0, 0, 0.15);\n",
              "    filter: drop-shadow(0px 1px 2px rgba(0, 0, 0, 0.3));\n",
              "    fill: #FFFFFF;\n",
              "  }\n",
              "</style>\n",
              "\n",
              "  <script>\n",
              "    async function quickchart(key) {\n",
              "      const charts = await google.colab.kernel.invokeFunction(\n",
              "          'suggestCharts', [key], {});\n",
              "    }\n",
              "    (() => {\n",
              "      let quickchartButtonEl =\n",
              "        document.querySelector('#df-1c081ee1-ed29-46b6-876f-833e9afdb3fa button');\n",
              "      quickchartButtonEl.style.display =\n",
              "        google.colab.kernel.accessAllowed ? 'block' : 'none';\n",
              "    })();\n",
              "  </script>\n",
              "</div>\n",
              "    </div>\n",
              "  </div>\n"
            ]
          },
          "metadata": {},
          "execution_count": 18
        }
      ]
    },
    {
      "cell_type": "code",
      "source": [
        "# Find outliers based on 1.5*(Q3-Q1) outlier step\n",
        "outliers  = []\n",
        "# For each feature find the data points with extreme high or low values\n",
        "for feature in scaled_x_df_num.keys():\n",
        "    # Calculate Q1 (25th percentile of the data) for the given feature\n",
        "    Q1 = np.percentile(scaled_x_df_num[feature],25)\n",
        "    # Calculate Q3 (75th percentile of the data) for the given feature\n",
        "    Q3 = np.percentile(scaled_x_df_num[feature],75)\n",
        "    # Use the interquartile range to calculate an outlier step (1.5 times the interquartile range)\n",
        "    step = 1.5*(Q3-Q1)\n",
        "    outliers_per_feature = scaled_x_df_num[~((scaled_x_df_num[feature] >= Q1 - step) & (scaled_x_df_num[feature] <= Q3 + step))]\n",
        "    outliers = outliers + list(outliers_per_feature.index)\n",
        "outliers.sort()\n",
        "outliers = list(set(outliers))\n",
        "\n",
        "# Remove outliers\n",
        "clean_scaled_x_df_num = scaled_x_df_num.drop(scaled_x_df_num.index[outliers]).reset_index(drop = True)\n",
        "print('{} outliers removed'.format(len(outliers)))"
      ],
      "metadata": {
        "colab": {
          "base_uri": "https://localhost:8080/"
        },
        "id": "IuJmqHWgWqtl",
        "outputId": "9d80a28a-8eaf-4b5d-e760-608003dcfc9e"
      },
      "execution_count": 19,
      "outputs": [
        {
          "output_type": "stream",
          "name": "stdout",
          "text": [
            "8816 outliers removed\n"
          ]
        }
      ]
    },
    {
      "cell_type": "code",
      "source": [],
      "metadata": {
        "id": "g3Yw-OghapDl"
      },
      "execution_count": null,
      "outputs": []
    },
    {
      "cell_type": "code",
      "source": [
        "# Convert categorical features to \"One Hot Encoding\" vectors and drop outliers\n",
        "clean_x_df_cat = x_df_cat.drop(x_df_cat.index[outliers]).reset_index(drop = True)\n",
        "# clean_x_df_cat_ohe = pd.get_dummies(clean_x_df_cat, drop_first=True)\n",
        "# dummies = pd.get_dummies(clean_x_df_cat)"
      ],
      "metadata": {
        "id": "odELrHkA6HGP"
      },
      "execution_count": 20,
      "outputs": []
    },
    {
      "cell_type": "code",
      "source": [
        "# Recombine scaled numerical and encoded categorical features by concatination\n",
        "x_df = pd.concat([clean_scaled_x_df_num, clean_x_df_cat], axis = 1)\n",
        "# x_df = pd.concat([clean_scaled_x_df_num, dummies], axis = 1)"
      ],
      "metadata": {
        "id": "IFtTb5SrIdFB"
      },
      "execution_count": 21,
      "outputs": []
    },
    {
      "cell_type": "code",
      "source": [
        "# Drop outliers from label Dataframe as well\n",
        "y_df = y_df.drop(y_df.index[outliers]).reset_index(drop = True)"
      ],
      "metadata": {
        "id": "Lk78cERI6L8W"
      },
      "execution_count": 22,
      "outputs": []
    },
    {
      "cell_type": "code",
      "source": [
        "print(len(y_df), len(x_df))"
      ],
      "metadata": {
        "colab": {
          "base_uri": "https://localhost:8080/"
        },
        "id": "7GWs3nhGXIrd",
        "outputId": "0fa1f0f7-3283-4b28-cbdc-98c18f986b70"
      },
      "execution_count": 23,
      "outputs": [
        {
          "output_type": "stream",
          "name": "stdout",
          "text": [
            "12067 12067\n"
          ]
        }
      ]
    },
    {
      "cell_type": "code",
      "source": [
        "y_df.columns = ['Label']"
      ],
      "metadata": {
        "id": "Mvd4b72pXKvE"
      },
      "execution_count": 24,
      "outputs": []
    },
    {
      "cell_type": "code",
      "source": [
        "print(y_df.value_counts())\n",
        "print('\\nPositive label proportion: ')\n",
        "print(y_df.value_counts()/y_df.shape[0])"
      ],
      "metadata": {
        "colab": {
          "base_uri": "https://localhost:8080/"
        },
        "id": "QJ_1jTS_XO2m",
        "outputId": "e6f1eaef-0068-4320-80d2-523188241f1d"
      },
      "execution_count": 25,
      "outputs": [
        {
          "output_type": "stream",
          "name": "stdout",
          "text": [
            "0    10658\n",
            "1     1409\n",
            "Name: Label, dtype: int64\n",
            "\n",
            "Positive label proportion: \n",
            "0    0.883235\n",
            "1    0.116765\n",
            "Name: Label, dtype: float64\n"
          ]
        }
      ]
    },
    {
      "cell_type": "code",
      "source": [
        "# write final files to local dir\n",
        "x_df.to_csv('/content/x_df.csv')\n",
        "y_df.to_csv('/content/y_df.csv')"
      ],
      "metadata": {
        "id": "OT9mfqLwnVZa"
      },
      "execution_count": 62,
      "outputs": []
    },
    {
      "cell_type": "code",
      "source": [
        "# XGBOOST TIME"
      ],
      "metadata": {
        "id": "kwQeLywDmRVL"
      },
      "execution_count": null,
      "outputs": []
    },
    {
      "cell_type": "code",
      "source": [
        "#import all relevant libraries\n",
        "import xgboost as xgb\n",
        "from xgboost.sklearn import XGBClassifier\n",
        "from xgboost import plot_importance\n",
        "import pandas as pd\n",
        "import numpy as np\n",
        "import matplotlib.pyplot as plt\n",
        "from sklearn.model_selection import GridSearchCV, StratifiedKFold\n",
        "from sklearn.metrics import classification_report, confusion_matrix, precision_score, recall_score, roc_curve, auc\n",
        "from scipy import interp\n",
        "\n",
        "%matplotlib inline"
      ],
      "metadata": {
        "id": "vQNRe24W_KxD"
      },
      "execution_count": 63,
      "outputs": []
    },
    {
      "cell_type": "code",
      "source": [
        "# Read preprocessed dataframes produced in notebook 2_preprocessing.ipynb\n",
        "x_df = pd.read_csv('/content/x_df.csv')\n",
        "y_df = pd.read_csv('/content/y_df.csv')"
      ],
      "metadata": {
        "id": "G3drN9ev_aGR"
      },
      "execution_count": 64,
      "outputs": []
    },
    {
      "cell_type": "code",
      "source": [
        "print(x_df.keys())\n",
        "x_df = x_df.drop(columns = ['Unnamed: 0'])\n",
        "print(x_df.keys())"
      ],
      "metadata": {
        "colab": {
          "base_uri": "https://localhost:8080/"
        },
        "id": "Xvxis72iqUQa",
        "outputId": "9c3d9fde-5c4e-42ad-a680-fbd1b3b627a8"
      },
      "execution_count": 65,
      "outputs": [
        {
          "output_type": "stream",
          "name": "stdout",
          "text": [
            "Index(['Unnamed: 0', 'age', 'los', 'hr', 'nbp', 'spo2', 'rr', 'temp',\n",
            "       'discharge_location', 'insurance', 'ethnicity', 'icd9_code_1', 'gender',\n",
            "       'Medication_count_bin', 'num_unique_icd9_codes_bin'],\n",
            "      dtype='object')\n",
            "Index(['age', 'los', 'hr', 'nbp', 'spo2', 'rr', 'temp', 'discharge_location',\n",
            "       'insurance', 'ethnicity', 'icd9_code_1', 'gender',\n",
            "       'Medication_count_bin', 'num_unique_icd9_codes_bin'],\n",
            "      dtype='object')\n"
          ]
        }
      ]
    },
    {
      "cell_type": "code",
      "source": [
        "# Define the class weight scale (a hyperparameter) as the ration of negative labels to positive labels.\n",
        "# This instructs the classifier to address the class imbalance.\n",
        "class_weight_scale = 1.*y_df.Label.value_counts()[0]/y_df.Label.value_counts()[1]\n",
        "class_weight_scale"
      ],
      "metadata": {
        "colab": {
          "base_uri": "https://localhost:8080/"
        },
        "id": "Q1Fu1BVP_bqw",
        "outputId": "476601c1-84a4-4dbe-82ee-4152ad568096"
      },
      "execution_count": 66,
      "outputs": [
        {
          "output_type": "execute_result",
          "data": {
            "text/plain": [
              "7.564229950319375"
            ]
          },
          "metadata": {},
          "execution_count": 66
        }
      ]
    },
    {
      "cell_type": "code",
      "source": [
        "param={\n",
        "    'objective':'binary:logistic',\n",
        "    'nthread':4,\n",
        "    'scale_pos_weight':class_weight_scale,\n",
        "    'seed' : 1\n",
        "}\n",
        "xgb1 = XGBClassifier()\n",
        "xgb1.set_params(**param)"
      ],
      "metadata": {
        "colab": {
          "base_uri": "https://localhost:8080/",
          "height": 248
        },
        "id": "QmJrfIPO_8qL",
        "outputId": "895c7187-69d9-497c-e246-6e5e8c2bb770"
      },
      "execution_count": 67,
      "outputs": [
        {
          "output_type": "execute_result",
          "data": {
            "text/plain": [
              "XGBClassifier(base_score=None, booster=None, callbacks=None,\n",
              "              colsample_bylevel=None, colsample_bynode=None,\n",
              "              colsample_bytree=None, early_stopping_rounds=None,\n",
              "              enable_categorical=False, eval_metric=None, feature_types=None,\n",
              "              gamma=None, gpu_id=None, grow_policy=None, importance_type=None,\n",
              "              interaction_constraints=None, learning_rate=None, max_bin=None,\n",
              "              max_cat_threshold=None, max_cat_to_onehot=None,\n",
              "              max_delta_step=None, max_depth=None, max_leaves=None,\n",
              "              min_child_weight=None, missing=nan, monotone_constraints=None,\n",
              "              n_estimators=100, n_jobs=None, nthread=4, num_parallel_tree=None,\n",
              "              predictor=None, ...)"
            ],
            "text/html": [
              "<style>#sk-container-id-3 {color: black;background-color: white;}#sk-container-id-3 pre{padding: 0;}#sk-container-id-3 div.sk-toggleable {background-color: white;}#sk-container-id-3 label.sk-toggleable__label {cursor: pointer;display: block;width: 100%;margin-bottom: 0;padding: 0.3em;box-sizing: border-box;text-align: center;}#sk-container-id-3 label.sk-toggleable__label-arrow:before {content: \"▸\";float: left;margin-right: 0.25em;color: #696969;}#sk-container-id-3 label.sk-toggleable__label-arrow:hover:before {color: black;}#sk-container-id-3 div.sk-estimator:hover label.sk-toggleable__label-arrow:before {color: black;}#sk-container-id-3 div.sk-toggleable__content {max-height: 0;max-width: 0;overflow: hidden;text-align: left;background-color: #f0f8ff;}#sk-container-id-3 div.sk-toggleable__content pre {margin: 0.2em;color: black;border-radius: 0.25em;background-color: #f0f8ff;}#sk-container-id-3 input.sk-toggleable__control:checked~div.sk-toggleable__content {max-height: 200px;max-width: 100%;overflow: auto;}#sk-container-id-3 input.sk-toggleable__control:checked~label.sk-toggleable__label-arrow:before {content: \"▾\";}#sk-container-id-3 div.sk-estimator input.sk-toggleable__control:checked~label.sk-toggleable__label {background-color: #d4ebff;}#sk-container-id-3 div.sk-label input.sk-toggleable__control:checked~label.sk-toggleable__label {background-color: #d4ebff;}#sk-container-id-3 input.sk-hidden--visually {border: 0;clip: rect(1px 1px 1px 1px);clip: rect(1px, 1px, 1px, 1px);height: 1px;margin: -1px;overflow: hidden;padding: 0;position: absolute;width: 1px;}#sk-container-id-3 div.sk-estimator {font-family: monospace;background-color: #f0f8ff;border: 1px dotted black;border-radius: 0.25em;box-sizing: border-box;margin-bottom: 0.5em;}#sk-container-id-3 div.sk-estimator:hover {background-color: #d4ebff;}#sk-container-id-3 div.sk-parallel-item::after {content: \"\";width: 100%;border-bottom: 1px solid gray;flex-grow: 1;}#sk-container-id-3 div.sk-label:hover label.sk-toggleable__label {background-color: #d4ebff;}#sk-container-id-3 div.sk-serial::before {content: \"\";position: absolute;border-left: 1px solid gray;box-sizing: border-box;top: 0;bottom: 0;left: 50%;z-index: 0;}#sk-container-id-3 div.sk-serial {display: flex;flex-direction: column;align-items: center;background-color: white;padding-right: 0.2em;padding-left: 0.2em;position: relative;}#sk-container-id-3 div.sk-item {position: relative;z-index: 1;}#sk-container-id-3 div.sk-parallel {display: flex;align-items: stretch;justify-content: center;background-color: white;position: relative;}#sk-container-id-3 div.sk-item::before, #sk-container-id-3 div.sk-parallel-item::before {content: \"\";position: absolute;border-left: 1px solid gray;box-sizing: border-box;top: 0;bottom: 0;left: 50%;z-index: -1;}#sk-container-id-3 div.sk-parallel-item {display: flex;flex-direction: column;z-index: 1;position: relative;background-color: white;}#sk-container-id-3 div.sk-parallel-item:first-child::after {align-self: flex-end;width: 50%;}#sk-container-id-3 div.sk-parallel-item:last-child::after {align-self: flex-start;width: 50%;}#sk-container-id-3 div.sk-parallel-item:only-child::after {width: 0;}#sk-container-id-3 div.sk-dashed-wrapped {border: 1px dashed gray;margin: 0 0.4em 0.5em 0.4em;box-sizing: border-box;padding-bottom: 0.4em;background-color: white;}#sk-container-id-3 div.sk-label label {font-family: monospace;font-weight: bold;display: inline-block;line-height: 1.2em;}#sk-container-id-3 div.sk-label-container {text-align: center;}#sk-container-id-3 div.sk-container {/* jupyter's `normalize.less` sets `[hidden] { display: none; }` but bootstrap.min.css set `[hidden] { display: none !important; }` so we also need the `!important` here to be able to override the default hidden behavior on the sphinx rendered scikit-learn.org. See: https://github.com/scikit-learn/scikit-learn/issues/21755 */display: inline-block !important;position: relative;}#sk-container-id-3 div.sk-text-repr-fallback {display: none;}</style><div id=\"sk-container-id-3\" class=\"sk-top-container\"><div class=\"sk-text-repr-fallback\"><pre>XGBClassifier(base_score=None, booster=None, callbacks=None,\n",
              "              colsample_bylevel=None, colsample_bynode=None,\n",
              "              colsample_bytree=None, early_stopping_rounds=None,\n",
              "              enable_categorical=False, eval_metric=None, feature_types=None,\n",
              "              gamma=None, gpu_id=None, grow_policy=None, importance_type=None,\n",
              "              interaction_constraints=None, learning_rate=None, max_bin=None,\n",
              "              max_cat_threshold=None, max_cat_to_onehot=None,\n",
              "              max_delta_step=None, max_depth=None, max_leaves=None,\n",
              "              min_child_weight=None, missing=nan, monotone_constraints=None,\n",
              "              n_estimators=100, n_jobs=None, nthread=4, num_parallel_tree=None,\n",
              "              predictor=None, ...)</pre><b>In a Jupyter environment, please rerun this cell to show the HTML representation or trust the notebook. <br />On GitHub, the HTML representation is unable to render, please try loading this page with nbviewer.org.</b></div><div class=\"sk-container\" hidden><div class=\"sk-item\"><div class=\"sk-estimator sk-toggleable\"><input class=\"sk-toggleable__control sk-hidden--visually\" id=\"sk-estimator-id-3\" type=\"checkbox\" checked><label for=\"sk-estimator-id-3\" class=\"sk-toggleable__label sk-toggleable__label-arrow\">XGBClassifier</label><div class=\"sk-toggleable__content\"><pre>XGBClassifier(base_score=None, booster=None, callbacks=None,\n",
              "              colsample_bylevel=None, colsample_bynode=None,\n",
              "              colsample_bytree=None, early_stopping_rounds=None,\n",
              "              enable_categorical=False, eval_metric=None, feature_types=None,\n",
              "              gamma=None, gpu_id=None, grow_policy=None, importance_type=None,\n",
              "              interaction_constraints=None, learning_rate=None, max_bin=None,\n",
              "              max_cat_threshold=None, max_cat_to_onehot=None,\n",
              "              max_delta_step=None, max_depth=None, max_leaves=None,\n",
              "              min_child_weight=None, missing=nan, monotone_constraints=None,\n",
              "              n_estimators=100, n_jobs=None, nthread=4, num_parallel_tree=None,\n",
              "              predictor=None, ...)</pre></div></div></div></div></div>"
            ]
          },
          "metadata": {},
          "execution_count": 67
        }
      ]
    },
    {
      "cell_type": "code",
      "source": [
        "# Train initial classifier and analyze performace using K-fold cross-validation\n",
        "K = 5\n",
        "eval_size = int(np.round(1./K))\n",
        "skf = StratifiedKFold(n_splits=K)\n",
        "\n",
        "fig = plt.figure(figsize=(7,7))\n",
        "mean_tpr = 0.0\n",
        "mean_fpr = np.linspace(0, 1, 100)\n",
        "lw = 2\n",
        "i = 0\n",
        "roc_aucs_xgb1 = []\n",
        "for train_indices, test_indices in skf.split(x_df, y_df['Label']):\n",
        "    X_train, y_train = x_df.iloc[train_indices], y_df['Label'].iloc[train_indices]\n",
        "    X_valid, y_valid = x_df.iloc[test_indices], y_df['Label'].iloc[test_indices]\n",
        "    class_weight_scale = 1.*y_train.value_counts()[0]/y_train.value_counts()[1]\n",
        "    print('class weight scale : {}'.format(class_weight_scale))\n",
        "    xgb1.set_params(**{'scale_pos_weight' : class_weight_scale})\n",
        "    xgb1.fit(X_train,y_train)\n",
        "    xgb1_pred_prob = xgb1.predict_proba(X_valid)\n",
        "    fpr, tpr, thresholds = roc_curve(y_valid, xgb1_pred_prob[:, 1])\n",
        "    mean_tpr += interp(mean_fpr, fpr, tpr)\n",
        "    mean_tpr[0] = 0.0\n",
        "    roc_auc = auc(fpr, tpr)\n",
        "    roc_aucs_xgb1.append(roc_auc)\n",
        "    plt.plot(fpr, tpr, lw=2, label='ROC fold %d (area = %0.2f)' % (i, roc_auc))\n",
        "\n",
        "    i += 1\n",
        "\n",
        "plt.plot([0, 1], [0, 1], linestyle='--', lw=lw, color='k',\n",
        "         label='Luck')\n",
        "\n",
        "mean_tpr /= K\n",
        "mean_tpr[-1] = 1.0\n",
        "mean_auc = auc(mean_fpr, mean_tpr)\n",
        "plt.plot(mean_fpr, mean_tpr, color='g', linestyle='--',\n",
        "         label='Mean ROC (area = %0.2f)' % mean_auc, lw=lw)\n",
        "\n",
        "plt.xlim([-0.05, 1.05])\n",
        "plt.ylim([-0.05, 1.05])\n",
        "plt.xlabel('False Positive Rate')\n",
        "plt.ylabel('True Positive Rate')\n",
        "plt.title('Initial estimator ROC curve')\n",
        "plt.legend(loc=\"lower right\")\n",
        "\n",
        "fig.savefig('/content/initial_ROC.png')"
      ],
      "metadata": {
        "colab": {
          "base_uri": "https://localhost:8080/",
          "height": 909
        },
        "id": "Hsyss-YyATWC",
        "outputId": "df06b30e-34ad-4971-a78f-aecfb8dfb6da"
      },
      "execution_count": 68,
      "outputs": [
        {
          "output_type": "stream",
          "name": "stdout",
          "text": [
            "class weight scale : 7.565217391304348\n"
          ]
        },
        {
          "output_type": "stream",
          "name": "stderr",
          "text": [
            "<ipython-input-68-756200e3f080>:21: DeprecationWarning: scipy.interp is deprecated and will be removed in SciPy 2.0.0, use numpy.interp instead\n",
            "  mean_tpr += interp(mean_fpr, fpr, tpr)\n"
          ]
        },
        {
          "output_type": "stream",
          "name": "stdout",
          "text": [
            "class weight scale : 7.565217391304348\n"
          ]
        },
        {
          "output_type": "stream",
          "name": "stderr",
          "text": [
            "<ipython-input-68-756200e3f080>:21: DeprecationWarning: scipy.interp is deprecated and will be removed in SciPy 2.0.0, use numpy.interp instead\n",
            "  mean_tpr += interp(mean_fpr, fpr, tpr)\n"
          ]
        },
        {
          "output_type": "stream",
          "name": "stdout",
          "text": [
            "class weight scale : 7.558510638297872\n"
          ]
        },
        {
          "output_type": "stream",
          "name": "stderr",
          "text": [
            "<ipython-input-68-756200e3f080>:21: DeprecationWarning: scipy.interp is deprecated and will be removed in SciPy 2.0.0, use numpy.interp instead\n",
            "  mean_tpr += interp(mean_fpr, fpr, tpr)\n"
          ]
        },
        {
          "output_type": "stream",
          "name": "stdout",
          "text": [
            "class weight scale : 7.566104702750666\n"
          ]
        },
        {
          "output_type": "stream",
          "name": "stderr",
          "text": [
            "<ipython-input-68-756200e3f080>:21: DeprecationWarning: scipy.interp is deprecated and will be removed in SciPy 2.0.0, use numpy.interp instead\n",
            "  mean_tpr += interp(mean_fpr, fpr, tpr)\n"
          ]
        },
        {
          "output_type": "stream",
          "name": "stdout",
          "text": [
            "class weight scale : 7.566104702750666\n"
          ]
        },
        {
          "output_type": "stream",
          "name": "stderr",
          "text": [
            "<ipython-input-68-756200e3f080>:21: DeprecationWarning: scipy.interp is deprecated and will be removed in SciPy 2.0.0, use numpy.interp instead\n",
            "  mean_tpr += interp(mean_fpr, fpr, tpr)\n"
          ]
        },
        {
          "output_type": "display_data",
          "data": {
            "text/plain": [
              "<Figure size 700x700 with 1 Axes>"
            ],
            "image/png": "[encoded data removed]"
          },
          "metadata": {}
        }
      ]
    },
    {
      "cell_type": "code",
      "source": [
        "optimize = True"
      ],
      "metadata": {
        "id": "xnPr4aULUu08"
      },
      "execution_count": 69,
      "outputs": []
    },
    {
      "cell_type": "code",
      "source": [
        "X_train = x_df\n",
        "y_train = y_df['Label']\n",
        "\n",
        "if optimize:\n",
        "\n",
        "    param_test0 = {\n",
        "     'n_estimators':range(50,250,10)\n",
        "    }\n",
        "    print('performing hyperparamter optimization step 0')\n",
        "    gsearch0 = GridSearchCV(estimator = xgb1, param_grid = param_test0,\n",
        "                            scoring='roc_auc',n_jobs=4, cv=5)\n",
        "    gsearch0.fit(X_train,y_train)\n",
        "    print(gsearch0.best_params_, gsearch0.best_score_)\n",
        "\n",
        "    param_test1 = {\n",
        "     'max_depth':range(1,10),\n",
        "     'min_child_weight':range(1,10)\n",
        "    }\n",
        "    print('performing hyperparamter optimization step 1')\n",
        "    gsearch1 = GridSearchCV(estimator = gsearch0.best_estimator_,\n",
        "     param_grid = param_test1, scoring='roc_auc',n_jobs=4, cv=5)\n",
        "    gsearch1.fit(X_train,y_train)\n",
        "    print(gsearch1.best_params_, gsearch1.best_score_)\n",
        "\n",
        "    max_d = gsearch1.best_params_['max_depth']\n",
        "    min_c = gsearch1.best_params_['min_child_weight']\n",
        "\n",
        "    param_test2 = {\n",
        "     'gamma':[i/10. for i in range(0,5)]\n",
        "    }\n",
        "    print('performing hyperparamter optimization step 2')\n",
        "    gsearch2 = GridSearchCV(estimator = gsearch1.best_estimator_,\n",
        "     param_grid = param_test2, scoring='roc_auc',n_jobs=4, cv=5)\n",
        "    gsearch2.fit(X_train,y_train)\n",
        "    print(gsearch2.best_params_, gsearch2.best_score_)\n",
        "\n",
        "    param_test3 = {\n",
        "        'subsample':[i/10.0 for i in range(1,10)],\n",
        "        'colsample_bytree':[i/10.0 for i in range(1,10)]\n",
        "    }\n",
        "    print('performing hyperparamter optimization step 3')\n",
        "    gsearch3 = GridSearchCV(estimator = gsearch2.best_estimator_,\n",
        "     param_grid = param_test3, scoring='roc_auc',n_jobs=4, cv=5)\n",
        "    gsearch3.fit(X_train,y_train)\n",
        "    print(gsearch3.best_params_, gsearch3.best_score_)\n",
        "\n",
        "    param_test4 = {\n",
        "        'reg_alpha':[0, 1e-5, 1e-3, 0.1, 10]\n",
        "    }\n",
        "    print('performing hyperparamter optimization step 4')\n",
        "    gsearch4 = GridSearchCV(estimator = gsearch3.best_estimator_,\n",
        "     param_grid = param_test4, scoring='roc_auc',n_jobs=4, cv=5)\n",
        "    gsearch4.fit(X_train,y_train)\n",
        "    print(gsearch4.best_params_, gsearch4.best_score_)\n",
        "\n",
        "    alpha = gsearch4.best_params_['reg_alpha']\n",
        "    if alpha != 0:\n",
        "        param_test4b = {\n",
        "            'reg_alpha':[0.1*alpha, 0.25*alpha, 0.5*alpha, alpha, 2.5*alpha, 5*alpha, 10*alpha]\n",
        "        }\n",
        "        print('performing hyperparamter optimization step 4b')\n",
        "        gsearch4b = GridSearchCV(estimator = gsearch4.best_estimator_,\n",
        "         param_grid = param_test4b, scoring='roc_auc',n_jobs=4, cv=5)\n",
        "        gsearch4b.fit(X_train,y_train)\n",
        "        print(gsearch4b.best_params_, gsearch4.best_score_)\n",
        "        print('\\nParameter optimization finished!')\n",
        "        xgb_opt = gsearch4b.best_estimator_\n",
        "        xgb_opt\n",
        "    else:\n",
        "        xgb_opt = gsearch4.best_estimator_\n",
        "        xgb_opt\n",
        "else:\n",
        "    # Pre-optimized settings\n",
        "    xgb_opt = XGBClassifier(base_score=0.5, colsample_bylevel=1, colsample_bytree=0.7,\n",
        "       gamma=0.1, learning_rate=0.1, max_delta_step=0, max_depth=3,\n",
        "       min_child_weight=5, missing=None, n_estimators=70, nthread=4,\n",
        "       objective='binary:logistic', reg_alpha=25.0, reg_lambda=1,\n",
        "       scale_pos_weight=7.0909090909090908, seed=1, silent=True,\n",
        "       subsample=0.6)\n",
        "\n",
        "print(xgb_opt)"
      ],
      "metadata": {
        "colab": {
          "base_uri": "https://localhost:8080/"
        },
        "id": "yofl3NvYmRTH",
        "outputId": "eb50a48a-918d-4940-cca2-de636bda48dc"
      },
      "execution_count": 70,
      "outputs": [
        {
          "output_type": "stream",
          "name": "stdout",
          "text": [
            "performing hyperparamter optimization step 0\n",
            "{'n_estimators': 60} 0.6824738773938266\n",
            "performing hyperparamter optimization step 1\n",
            "{'max_depth': 2, 'min_child_weight': 9} 0.7213395958665803\n",
            "performing hyperparamter optimization step 2\n",
            "{'gamma': 0.3} 0.7213412650592919\n",
            "performing hyperparamter optimization step 3\n",
            "{'colsample_bytree': 0.6, 'subsample': 0.9} 0.7225507881017321\n",
            "performing hyperparamter optimization step 4\n",
            "{'reg_alpha': 10} 0.7243868865188807\n",
            "performing hyperparamter optimization step 4b\n",
            "{'reg_alpha': 10} 0.7243868865188807\n",
            "\n",
            "Parameter optimization finished!\n",
            "XGBClassifier(base_score=None, booster=None, callbacks=None,\n",
            "              colsample_bylevel=None, colsample_bynode=None,\n",
            "              colsample_bytree=0.6, early_stopping_rounds=None,\n",
            "              enable_categorical=False, eval_metric=None, feature_types=None,\n",
            "              gamma=0.3, gpu_id=None, grow_policy=None, importance_type=None,\n",
            "              interaction_constraints=None, learning_rate=None, max_bin=None,\n",
            "              max_cat_threshold=None, max_cat_to_onehot=None,\n",
            "              max_delta_step=None, max_depth=2, max_leaves=None,\n",
            "              min_child_weight=9, missing=nan, monotone_constraints=None,\n",
            "              n_estimators=60, n_jobs=None, nthread=4, num_parallel_tree=None,\n",
            "              predictor=None, ...)\n"
          ]
        }
      ]
    },
    {
      "cell_type": "code",
      "source": [
        "# K fold cross validation\n",
        "K = 5\n",
        "eval_size = int(np.round(1./K))\n",
        "skf = StratifiedKFold(n_splits=K)\n",
        "\n",
        "\n",
        "fig = plt.figure(figsize=(7,7))\n",
        "mean_tpr = 0.0\n",
        "mean_fpr = np.linspace(0, 1, 100)\n",
        "lw = 2\n",
        "i = 0\n",
        "roc_aucs_xgbopt = []\n",
        "for train_indices, test_indices in skf.split(x_df, y_df['Label']):\n",
        "    X_train, y_train = x_df.iloc[train_indices], y_df['Label'].iloc[train_indices]\n",
        "    X_valid, y_valid = x_df.iloc[test_indices], y_df['Label'].iloc[test_indices]\n",
        "    class_weight_scale = 1.*y_train.value_counts()[0]/y_train.value_counts()[1]\n",
        "    print('class weight scale : {}'.format(class_weight_scale))\n",
        "    xgb_opt.set_params(**{'scale_pos_weight' : class_weight_scale})\n",
        "    xgb_opt.fit(X_train,y_train)\n",
        "    xgb_opt_pred_prob = xgb_opt.predict_proba(X_valid)\n",
        "    fpr, tpr, thresholds = roc_curve(y_valid, xgb_opt_pred_prob[:, 1])\n",
        "    mean_tpr += interp(mean_fpr, fpr, tpr)\n",
        "    mean_tpr[0] = 0.0\n",
        "    roc_auc = auc(fpr, tpr)\n",
        "    roc_aucs_xgbopt.append(roc_auc)\n",
        "    plt.plot(fpr, tpr, lw=2, label='ROC fold %d (area = %0.2f)' % (i, roc_auc))\n",
        "\n",
        "    i += 1\n",
        "\n",
        "plt.plot([0, 1], [0, 1], linestyle='--', lw=lw, color='k',\n",
        "         label='Luck')\n",
        "\n",
        "mean_tpr /= K\n",
        "mean_tpr[-1] = 1.0\n",
        "mean_auc = auc(mean_fpr, mean_tpr)\n",
        "plt.plot(mean_fpr, mean_tpr, color='g', linestyle='--',\n",
        "         label='Mean ROC (area = %0.2f)' % mean_auc, lw=lw)\n",
        "\n",
        "plt.xlim([-0.05, 1.05])\n",
        "plt.ylim([-0.05, 1.05])\n",
        "plt.xlabel('False Positive Rate')\n",
        "plt.ylabel('True Positive Rate')\n",
        "plt.title('ROC curve')\n",
        "plt.legend(loc=\"lower right\")\n",
        "\n",
        "fig.savefig('/content/ROC.png')"
      ],
      "metadata": {
        "colab": {
          "base_uri": "https://localhost:8080/",
          "height": 909
        },
        "id": "vAgD3ZfrmRRG",
        "outputId": "6ff26c26-046b-4c7c-d465-b1ad249f827d"
      },
      "execution_count": 71,
      "outputs": [
        {
          "output_type": "stream",
          "name": "stdout",
          "text": [
            "class weight scale : 7.565217391304348\n",
            "class weight scale : 7.565217391304348\n"
          ]
        },
        {
          "output_type": "stream",
          "name": "stderr",
          "text": [
            "<ipython-input-71-3834e743a805>:22: DeprecationWarning: scipy.interp is deprecated and will be removed in SciPy 2.0.0, use numpy.interp instead\n",
            "  mean_tpr += interp(mean_fpr, fpr, tpr)\n",
            "<ipython-input-71-3834e743a805>:22: DeprecationWarning: scipy.interp is deprecated and will be removed in SciPy 2.0.0, use numpy.interp instead\n",
            "  mean_tpr += interp(mean_fpr, fpr, tpr)\n"
          ]
        },
        {
          "output_type": "stream",
          "name": "stdout",
          "text": [
            "class weight scale : 7.558510638297872\n",
            "class weight scale : 7.566104702750666\n"
          ]
        },
        {
          "output_type": "stream",
          "name": "stderr",
          "text": [
            "<ipython-input-71-3834e743a805>:22: DeprecationWarning: scipy.interp is deprecated and will be removed in SciPy 2.0.0, use numpy.interp instead\n",
            "  mean_tpr += interp(mean_fpr, fpr, tpr)\n",
            "<ipython-input-71-3834e743a805>:22: DeprecationWarning: scipy.interp is deprecated and will be removed in SciPy 2.0.0, use numpy.interp instead\n",
            "  mean_tpr += interp(mean_fpr, fpr, tpr)\n"
          ]
        },
        {
          "output_type": "stream",
          "name": "stdout",
          "text": [
            "class weight scale : 7.566104702750666\n"
          ]
        },
        {
          "output_type": "stream",
          "name": "stderr",
          "text": [
            "<ipython-input-71-3834e743a805>:22: DeprecationWarning: scipy.interp is deprecated and will be removed in SciPy 2.0.0, use numpy.interp instead\n",
            "  mean_tpr += interp(mean_fpr, fpr, tpr)\n"
          ]
        },
        {
          "output_type": "display_data",
          "data": {
            "text/plain": [
              "<Figure size 700x700 with 1 Axes>"
            ],
            "image/png": "[encoded data removed]"
          },
          "metadata": {}
        }
      ]
    },
    {
      "cell_type": "code",
      "source": [
        "if optimize:\n",
        "\n",
        "    aucs = [np.mean(roc_aucs_xgb1),\n",
        "            gsearch0.best_score_,\n",
        "            gsearch1.best_score_,\n",
        "            gsearch2.best_score_,\n",
        "            gsearch3.best_score_,\n",
        "            gsearch4.best_score_,\n",
        "            np.mean(roc_aucs_xgbopt)]\n",
        "\n",
        "    fig = plt.figure(figsize=(4,4))\n",
        "    plt.scatter(np.arange(1,len(aucs)+1), aucs)\n",
        "    plt.plot(np.arange(1,len(aucs)+1), aucs)\n",
        "    plt.xlim([0.5, len(aucs)+0.5])\n",
        "    plt.ylim([0.99*aucs[0], 1.01*aucs[-1]])\n",
        "    plt.xlabel('Hyperparamter optimization step')\n",
        "    plt.ylabel('AUC')\n",
        "    plt.title('Hyperparameter optimization')\n",
        "    plt.grid()\n",
        "    fig.savefig('/content/optimization.png')"
      ],
      "metadata": {
        "colab": {
          "base_uri": "https://localhost:8080/",
          "height": 410
        },
        "id": "7fO6KD98mRO1",
        "outputId": "3a3a03b1-6dbd-454c-840c-10cb987a0e29"
      },
      "execution_count": 72,
      "outputs": [
        {
          "output_type": "display_data",
          "data": {
            "text/plain": [
              "<Figure size 400x400 with 1 Axes>"
            ],
            "image/png": "[encoded data removed]"
          },
          "metadata": {}
        }
      ]
    },
    {
      "cell_type": "code",
      "source": [
        "print(classification_report(y_true = y_df.Label, y_pred = np.zeros(y_df.shape[0])))"
      ],
      "metadata": {
        "colab": {
          "base_uri": "https://localhost:8080/"
        },
        "id": "eoIQXDmAmRMp",
        "outputId": "2b3d998c-5f38-4666-d2cb-ae0660abe602"
      },
      "execution_count": 73,
      "outputs": [
        {
          "output_type": "stream",
          "name": "stdout",
          "text": [
            "              precision    recall  f1-score   support\n",
            "\n",
            "           0       0.88      1.00      0.94     10658\n",
            "           1       0.00      0.00      0.00      1409\n",
            "\n",
            "    accuracy                           0.88     12067\n",
            "   macro avg       0.44      0.50      0.47     12067\n",
            "weighted avg       0.78      0.88      0.83     12067\n",
            "\n"
          ]
        },
        {
          "output_type": "stream",
          "name": "stderr",
          "text": [
            "/usr/local/lib/python3.10/dist-packages/sklearn/metrics/_classification.py:1344: UndefinedMetricWarning: Precision and F-score are ill-defined and being set to 0.0 in labels with no predicted samples. Use `zero_division` parameter to control this behavior.\n",
            "  _warn_prf(average, modifier, msg_start, len(result))\n",
            "/usr/local/lib/python3.10/dist-packages/sklearn/metrics/_classification.py:1344: UndefinedMetricWarning: Precision and F-score are ill-defined and being set to 0.0 in labels with no predicted samples. Use `zero_division` parameter to control this behavior.\n",
            "  _warn_prf(average, modifier, msg_start, len(result))\n",
            "/usr/local/lib/python3.10/dist-packages/sklearn/metrics/_classification.py:1344: UndefinedMetricWarning: Precision and F-score are ill-defined and being set to 0.0 in labels with no predicted samples. Use `zero_division` parameter to control this behavior.\n",
            "  _warn_prf(average, modifier, msg_start, len(result))\n"
          ]
        }
      ]
    },
    {
      "cell_type": "code",
      "source": [
        "print(classification_report(y_true = y_df.Label, y_pred = xgb_opt.predict(x_df)))"
      ],
      "metadata": {
        "colab": {
          "base_uri": "https://localhost:8080/"
        },
        "id": "LLHRQLHNmREF",
        "outputId": "2d753e8f-80d3-4c1d-bae6-2c79950628e3"
      },
      "execution_count": 74,
      "outputs": [
        {
          "output_type": "stream",
          "name": "stdout",
          "text": [
            "              precision    recall  f1-score   support\n",
            "\n",
            "           0       0.95      0.69      0.80     10658\n",
            "           1       0.24      0.73      0.36      1409\n",
            "\n",
            "    accuracy                           0.70     12067\n",
            "   macro avg       0.59      0.71      0.58     12067\n",
            "weighted avg       0.87      0.70      0.75     12067\n",
            "\n"
          ]
        }
      ]
    },
    {
      "cell_type": "code",
      "source": [
        "def my_plot_importance(booster, figsize, **kwargs):\n",
        "    from matplotlib import pyplot as plt\n",
        "    from xgboost import plot_importance\n",
        "    fig, ax = plt.subplots(1,1,figsize=(figsize))\n",
        "    plot_importance(booster=booster, ax=ax, **kwargs)\n",
        "    for item in ([ax.title, ax.xaxis.label, ax.yaxis.label,] +\n",
        "ax.get_xticklabels() + ax.get_yticklabels()):\n",
        "        item.set_fontsize(10)\n",
        "    plt.tight_layout()\n",
        "    fig.savefig('/content/Feature_importance.png')\n",
        "\n",
        "my_plot_importance(xgb_opt, (5,10))"
      ],
      "metadata": {
        "colab": {
          "base_uri": "https://localhost:8080/",
          "height": 1000
        },
        "id": "B5UDdvP9p_Kx",
        "outputId": "cdfb13b2-bb0d-4393-fd5c-777c7205437e"
      },
      "execution_count": 75,
      "outputs": [
        {
          "output_type": "display_data",
          "data": {
            "text/plain": [
              "<Figure size 500x1000 with 1 Axes>"
            ],
            "image/png": "[encoded data removed]"
          },
          "metadata": {}
        }
      ]
    }
  ]
}